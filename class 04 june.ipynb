{
 "cells": [
  {
   "cell_type": "markdown",
   "id": "678572e1",
   "metadata": {},
   "source": [
    " #                                        4 june "
   ]
  },
  {
   "cell_type": "code",
   "execution_count": null,
   "id": "e631a95b",
   "metadata": {},
   "outputs": [],
   "source": [
    "## for loop "
   ]
  },
  {
   "cell_type": "code",
   "execution_count": 1,
   "id": "df561827",
   "metadata": {},
   "outputs": [
    {
     "name": "stdout",
     "output_type": "stream",
     "text": [
      "2\n",
      "4\n",
      "6\n",
      "8\n",
      "10\n",
      "12\n",
      "14\n",
      "16\n",
      "18\n",
      "20\n"
     ]
    }
   ],
   "source": [
    "ls=[1,2,3,4,5,6,7,8,9,10]\n",
    "for i in ls:        \n",
    "    print(i*2)"
   ]
  },
  {
   "cell_type": "code",
   "execution_count": 2,
   "id": "5dbefc31",
   "metadata": {},
   "outputs": [
    {
     "name": "stdout",
     "output_type": "stream",
     "text": [
      "9\n",
      "18\n",
      "27\n",
      "36\n",
      "45\n",
      "54\n",
      "63\n",
      "72\n",
      "81\n",
      "90\n"
     ]
    }
   ],
   "source": [
    "# tables of 2\n",
    "\n",
    "ls=[1,2,3,4,5,6,7,8,9,10]\n",
    "for i in ls:\n",
    "    print(i*9)"
   ]
  },
  {
   "cell_type": "code",
   "execution_count": 13,
   "id": "3469419c",
   "metadata": {},
   "outputs": [
    {
     "name": "stdout",
     "output_type": "stream",
     "text": [
      "9 X 1 = 9\n",
      "9 X 2 = 18\n",
      "9 X 3 = 27\n",
      "9 X 4 = 36\n",
      "9 X 5 = 45\n",
      "9 X 6 = 54\n",
      "9 X 7 = 63\n",
      "9 X 8 = 72\n",
      "9 X 9 = 81\n"
     ]
    }
   ],
   "source": [
    "## tabel of 9\n",
    "n=9\n",
    "for i in range(1,10):\n",
    "    print(n,\"X\",i,\"=\",i*n)"
   ]
  },
  {
   "cell_type": "code",
   "execution_count": 3,
   "id": "1f9a8067",
   "metadata": {},
   "outputs": [
    {
     "name": "stdout",
     "output_type": "stream",
     "text": [
      "2\n",
      "4\n",
      "6\n",
      "8\n",
      "10\n"
     ]
    }
   ],
   "source": [
    "ls=[1,2,3,4,5,6,7,8,9,10]\n",
    "\n",
    "for i in ls:\n",
    "    if i%2 ==0:                           # finding even nos from list\n",
    "        print(i)\n",
    "    \n"
   ]
  },
  {
   "cell_type": "code",
   "execution_count": null,
   "id": "4331b52f",
   "metadata": {},
   "outputs": [],
   "source": []
  },
  {
   "cell_type": "code",
   "execution_count": 17,
   "id": "0e176d45",
   "metadata": {},
   "outputs": [
    {
     "name": "stdout",
     "output_type": "stream",
     "text": [
      "0\n",
      "1\n",
      "2\n",
      "3\n",
      "4\n",
      "5\n",
      "6\n",
      "7\n",
      "8\n",
      "9\n",
      "10\n",
      "11\n",
      "12\n",
      "13\n",
      "14\n"
     ]
    }
   ],
   "source": [
    "#### while loop\n",
    "\n",
    "a=0\n",
    "while a<15:\n",
    "    print(a)\n",
    "    a+=1"
   ]
  },
  {
   "cell_type": "code",
   "execution_count": null,
   "id": "a44ac384",
   "metadata": {},
   "outputs": [],
   "source": []
  },
  {
   "cell_type": "code",
   "execution_count": null,
   "id": "6011dbcf",
   "metadata": {},
   "outputs": [],
   "source": []
  },
  {
   "cell_type": "code",
   "execution_count": null,
   "id": "190bea83",
   "metadata": {},
   "outputs": [],
   "source": []
  },
  {
   "cell_type": "code",
   "execution_count": 5,
   "id": "8b9499a9",
   "metadata": {},
   "outputs": [],
   "source": [
    "## control statements : break , continue, pass"
   ]
  },
  {
   "cell_type": "code",
   "execution_count": 30,
   "id": "9722d3eb",
   "metadata": {},
   "outputs": [
    {
     "name": "stdout",
     "output_type": "stream",
     "text": [
      "1\n",
      "2\n",
      "3\n",
      "4\n",
      "5\n",
      "reached till 5\n"
     ]
    }
   ],
   "source": [
    "# break = interupt the execution and come out of the loop\n",
    "\n",
    "ls=[1,2,3,4,5,6,7,8,9]\n",
    "for i in ls:\n",
    "    print(i)\n",
    "    if i==5:\n",
    "        print('reached till 5')\n",
    "        break\n",
    "        "
   ]
  },
  {
   "cell_type": "code",
   "execution_count": 31,
   "id": "3171d769",
   "metadata": {},
   "outputs": [
    {
     "name": "stdout",
     "output_type": "stream",
     "text": [
      "1\n",
      "3\n",
      "5\n",
      "7\n",
      "9\n",
      "11\n",
      "12\n"
     ]
    }
   ],
   "source": [
    "ls=[1,3,5,7,9,11,12,13,15,17,19]\n",
    "for i in ls:\n",
    "    print(i)\n",
    "    if i%2==0:\n",
    "        break\n",
    "        "
   ]
  },
  {
   "cell_type": "code",
   "execution_count": null,
   "id": "6e5a3b62",
   "metadata": {},
   "outputs": [],
   "source": []
  },
  {
   "cell_type": "code",
   "execution_count": null,
   "id": "d2a6b87e",
   "metadata": {},
   "outputs": [],
   "source": []
  },
  {
   "cell_type": "code",
   "execution_count": 37,
   "id": "e52e39ba",
   "metadata": {},
   "outputs": [
    {
     "name": "stdout",
     "output_type": "stream",
     "text": [
      "1\n",
      "2\n",
      "3\n",
      "5\n",
      "6\n",
      "7\n",
      "8\n",
      "9\n",
      "10\n"
     ]
    }
   ],
   "source": [
    "## continue  :stop the current iteration of the loop and continue with the next iteration\n",
    "a=0\n",
    "while a<10:\n",
    "    a+=1\n",
    "    if a==4:\n",
    "        continue\n",
    "    print(a)"
   ]
  },
  {
   "cell_type": "code",
   "execution_count": 35,
   "id": "1a85ab5d",
   "metadata": {},
   "outputs": [
    {
     "name": "stdout",
     "output_type": "stream",
     "text": [
      "1\n",
      "3\n",
      "5\n",
      "7\n",
      "9\n",
      "11\n",
      "12\n",
      "12\n",
      "13\n",
      "15\n",
      "17\n",
      "19\n"
     ]
    }
   ],
   "source": [
    "  \n",
    "\n",
    "ls=[1,3,5,7,9,11,12,13,15,17,19]\n",
    "for i in ls:\n",
    "    print(i)\n",
    "    if i%2==0:\n",
    "        print(i)\n",
    "        continue\n",
    "        print(\"21\")"
   ]
  },
  {
   "cell_type": "code",
   "execution_count": null,
   "id": "db2f9786",
   "metadata": {},
   "outputs": [],
   "source": []
  },
  {
   "cell_type": "code",
   "execution_count": 39,
   "id": "82ca38ec",
   "metadata": {},
   "outputs": [
    {
     "name": "stdout",
     "output_type": "stream",
     "text": [
      "2\n",
      "4\n",
      "6\n",
      "8\n",
      "12\n",
      "14\n",
      "16\n",
      "18\n",
      "20\n"
     ]
    }
   ],
   "source": [
    "ls=[1,2,3,4,5,6,7,8,9,10]\n",
    "for i in ls:  \n",
    "    if i*2==10:                            # print 2 table without printing 10\n",
    "        continue\n",
    "    print(i*2)\n",
    "    \n",
    "        "
   ]
  },
  {
   "cell_type": "code",
   "execution_count": null,
   "id": "8affb1fe",
   "metadata": {},
   "outputs": [],
   "source": []
  },
  {
   "cell_type": "code",
   "execution_count": 41,
   "id": "8cc12ac3",
   "metadata": {},
   "outputs": [],
   "source": [
    "# pass    : it just let the  iterator to paa\n",
    "\n",
    "ls=[1,2,3,4,5,6,7]\n",
    "\n",
    "for i in ls:                  ## if condition in ot defined \n",
    "    pass\n",
    "\n",
    "    "
   ]
  },
  {
   "cell_type": "code",
   "execution_count": 42,
   "id": "fd2f79dc",
   "metadata": {},
   "outputs": [
    {
     "name": "stdout",
     "output_type": "stream",
     "text": [
      "1\n",
      "2\n",
      "3\n",
      " this is a passed block\n",
      "4\n",
      "5\n",
      "6\n",
      "7\n"
     ]
    }
   ],
   "source": [
    "ls=[1,2,3,4,5,6,7]\n",
    "for i in ls:\n",
    "    if i==4:                                  \n",
    "        pass\n",
    "        print(' this is a passed block')\n",
    "    print(i)"
   ]
  },
  {
   "cell_type": "code",
   "execution_count": null,
   "id": "22209970",
   "metadata": {},
   "outputs": [],
   "source": []
  },
  {
   "cell_type": "code",
   "execution_count": 36,
   "id": "de3482ce",
   "metadata": {},
   "outputs": [],
   "source": [
    "## functions: are set of reusable codes\n",
    "\n",
    "## function to print a welcome message\n",
    "\n",
    "def welcome():                                       # this is how functions created\n",
    "    \n",
    "    print('hi,welcome to the pyyhon session!!')\n",
    "\n"
   ]
  },
  {
   "cell_type": "code",
   "execution_count": 37,
   "id": "e987a2ed",
   "metadata": {},
   "outputs": [
    {
     "name": "stdout",
     "output_type": "stream",
     "text": [
      "hi,welcome to the pyyhon session!!\n"
     ]
    }
   ],
   "source": [
    "welcome()                                 # and whenever we type 'welcome' it will print below sentence"
   ]
  },
  {
   "cell_type": "code",
   "execution_count": null,
   "id": "dd55acf8",
   "metadata": {},
   "outputs": [],
   "source": []
  },
  {
   "cell_type": "code",
   "execution_count": 10,
   "id": "974a7bca",
   "metadata": {},
   "outputs": [],
   "source": [
    "## function to create the table of given no\n",
    "\n",
    "##def function\n",
    "def table(a):\n",
    "    i=1\n",
    "    while i<=10:\n",
    "        print(i*a)\n",
    "        i+=1"
   ]
  },
  {
   "cell_type": "code",
   "execution_count": 11,
   "id": "70155963",
   "metadata": {},
   "outputs": [
    {
     "name": "stdout",
     "output_type": "stream",
     "text": [
      "9\n",
      "18\n",
      "27\n",
      "36\n",
      "45\n",
      "54\n",
      "63\n",
      "72\n",
      "81\n",
      "90\n"
     ]
    }
   ],
   "source": [
    "table(9)"
   ]
  },
  {
   "cell_type": "code",
   "execution_count": null,
   "id": "03842131",
   "metadata": {},
   "outputs": [],
   "source": []
  },
  {
   "cell_type": "code",
   "execution_count": 12,
   "id": "5ff02b5a",
   "metadata": {},
   "outputs": [],
   "source": [
    "## add no\n",
    "\n",
    "def add(a,b):\n",
    "    print(a+b)"
   ]
  },
  {
   "cell_type": "code",
   "execution_count": 13,
   "id": "c15bd551",
   "metadata": {},
   "outputs": [
    {
     "name": "stdout",
     "output_type": "stream",
     "text": [
      "3\n"
     ]
    }
   ],
   "source": [
    "add(1,2)"
   ]
  },
  {
   "cell_type": "code",
   "execution_count": 49,
   "id": "502f31c1",
   "metadata": {},
   "outputs": [
    {
     "name": "stdout",
     "output_type": "stream",
     "text": [
      "10\n",
      "range(0, 10)\n",
      "[0, 1, 2, 3, 4, 5, 6, 7, 8, 9, 10, 11, 12, 13, 14, 15, 16, 17, 18, 19]\n",
      "[0, 2, 4, 6, 8, 10, 12, 14, 16, 18]\n"
     ]
    }
   ],
   "source": [
    "## range function \n",
    "a=range(0,10)\n",
    "print(len(a))\n",
    "print(a)\n",
    "\n",
    "print(list(range(0,20)))\n",
    "print(list(range(0,20,2)))     # range(start,end,step)"
   ]
  },
  {
   "cell_type": "code",
   "execution_count": null,
   "id": "acec083b",
   "metadata": {},
   "outputs": [],
   "source": []
  },
  {
   "cell_type": "code",
   "execution_count": 31,
   "id": "9660ea5c",
   "metadata": {},
   "outputs": [
    {
     "name": "stdout",
     "output_type": "stream",
     "text": [
      "15\n"
     ]
    }
   ],
   "source": [
    "## lambda function                   ## mostly used to creat function under function\n",
    "#  lambda arguments:expresion\n",
    "x =lambda  a       :a+12\n",
    "print(x(3)) \n"
   ]
  },
  {
   "cell_type": "code",
   "execution_count": null,
   "id": "6522f2b0",
   "metadata": {},
   "outputs": [],
   "source": []
  },
  {
   "cell_type": "code",
   "execution_count": 33,
   "id": "b68568ca",
   "metadata": {},
   "outputs": [
    {
     "name": "stdout",
     "output_type": "stream",
     "text": [
      "10\n"
     ]
    }
   ],
   "source": [
    "p=lambda a,b,c,d :a+b+c+d\n",
    "print(p(1,2,3,4))"
   ]
  },
  {
   "cell_type": "code",
   "execution_count": null,
   "id": "98269b99",
   "metadata": {},
   "outputs": [],
   "source": []
  },
  {
   "cell_type": "code",
   "execution_count": 55,
   "id": "4494452d",
   "metadata": {},
   "outputs": [
    {
     "name": "stdout",
     "output_type": "stream",
     "text": [
      "-17\n"
     ]
    }
   ],
   "source": [
    "x=(5+4-8*6-8+86-56)\n",
    "print(eval('x'))                           # eval-- evaluate"
   ]
  },
  {
   "cell_type": "code",
   "execution_count": null,
   "id": "b17d911a",
   "metadata": {},
   "outputs": [],
   "source": []
  },
  {
   "cell_type": "code",
   "execution_count": null,
   "id": "82fbbd35",
   "metadata": {},
   "outputs": [],
   "source": []
  },
  {
   "cell_type": "code",
   "execution_count": null,
   "id": "d9e857bd",
   "metadata": {},
   "outputs": [],
   "source": []
  },
  {
   "cell_type": "code",
   "execution_count": null,
   "id": "62657da9",
   "metadata": {},
   "outputs": [],
   "source": []
  },
  {
   "cell_type": "code",
   "execution_count": null,
   "id": "2bd69f51",
   "metadata": {},
   "outputs": [],
   "source": []
  },
  {
   "cell_type": "code",
   "execution_count": null,
   "id": "660f877a",
   "metadata": {},
   "outputs": [],
   "source": []
  }
 ],
 "metadata": {
  "kernelspec": {
   "display_name": "Python 3 (ipykernel)",
   "language": "python",
   "name": "python3"
  },
  "language_info": {
   "codemirror_mode": {
    "name": "ipython",
    "version": 3
   },
   "file_extension": ".py",
   "mimetype": "text/x-python",
   "name": "python",
   "nbconvert_exporter": "python",
   "pygments_lexer": "ipython3",
   "version": "3.9.12"
  }
 },
 "nbformat": 4,
 "nbformat_minor": 5
}
