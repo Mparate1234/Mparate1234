{
 "cells": [
  {
   "cell_type": "markdown",
   "id": "a7a1b7e9",
   "metadata": {},
   "source": [
    "#          24 july           Linear regression model"
   ]
  },
  {
   "cell_type": "code",
   "execution_count": null,
   "id": "e4cfcb11",
   "metadata": {},
   "outputs": [],
   "source": []
  },
  {
   "cell_type": "code",
   "execution_count": 1,
   "id": "57109ed6",
   "metadata": {},
   "outputs": [
    {
     "name": "stdout",
     "output_type": "stream",
     "text": [
      "Requirement already satisfied: statsmodels in c:\\users\\manish\\anaconda3\\lib\\site-packages (0.13.2)\n",
      "Requirement already satisfied: numpy>=1.17 in c:\\users\\manish\\anaconda3\\lib\\site-packages (from statsmodels) (1.21.5)\n",
      "Requirement already satisfied: scipy>=1.3 in c:\\users\\manish\\anaconda3\\lib\\site-packages (from statsmodels) (1.7.3)\n",
      "Requirement already satisfied: pandas>=0.25 in c:\\users\\manish\\anaconda3\\lib\\site-packages (from statsmodels) (1.4.2)\n",
      "Requirement already satisfied: patsy>=0.5.2 in c:\\users\\manish\\anaconda3\\lib\\site-packages (from statsmodels) (0.5.2)\n",
      "Requirement already satisfied: packaging>=21.3 in c:\\users\\manish\\anaconda3\\lib\\site-packages (from statsmodels) (21.3)\n",
      "Requirement already satisfied: pyparsing!=3.0.5,>=2.0.2 in c:\\users\\manish\\anaconda3\\lib\\site-packages (from packaging>=21.3->statsmodels) (3.0.4)\n",
      "Requirement already satisfied: pytz>=2020.1 in c:\\users\\manish\\anaconda3\\lib\\site-packages (from pandas>=0.25->statsmodels) (2021.3)\n",
      "Requirement already satisfied: python-dateutil>=2.8.1 in c:\\users\\manish\\anaconda3\\lib\\site-packages (from pandas>=0.25->statsmodels) (2.8.2)\n",
      "Requirement already satisfied: six in c:\\users\\manish\\anaconda3\\lib\\site-packages (from patsy>=0.5.2->statsmodels) (1.16.0)\n"
     ]
    }
   ],
   "source": [
    "!pip install statsmodels"
   ]
  },
  {
   "cell_type": "code",
   "execution_count": 2,
   "id": "1acc6a3f",
   "metadata": {},
   "outputs": [],
   "source": [
    "import pandas as pd\n",
    "import numpy as np\n",
    "import matplotlib.pyplot as plt\n",
    "from sklearn.linear_model import LinearRegression\n",
    "import statsmodels.api as sm"
   ]
  },
  {
   "cell_type": "code",
   "execution_count": null,
   "id": "e524c9d4",
   "metadata": {},
   "outputs": [],
   "source": []
  },
  {
   "cell_type": "code",
   "execution_count": 4,
   "id": "5fa4c6da",
   "metadata": {},
   "outputs": [
    {
     "data": {
      "text/html": [
       "<div>\n",
       "<style scoped>\n",
       "    .dataframe tbody tr th:only-of-type {\n",
       "        vertical-align: middle;\n",
       "    }\n",
       "\n",
       "    .dataframe tbody tr th {\n",
       "        vertical-align: top;\n",
       "    }\n",
       "\n",
       "    .dataframe thead th {\n",
       "        text-align: right;\n",
       "    }\n",
       "</style>\n",
       "<table border=\"1\" class=\"dataframe\">\n",
       "  <thead>\n",
       "    <tr style=\"text-align: right;\">\n",
       "      <th></th>\n",
       "      <th>Unnamed: 0</th>\n",
       "      <th>TV</th>\n",
       "      <th>radio</th>\n",
       "      <th>newspaper</th>\n",
       "      <th>sales</th>\n",
       "    </tr>\n",
       "  </thead>\n",
       "  <tbody>\n",
       "    <tr>\n",
       "      <th>0</th>\n",
       "      <td>1</td>\n",
       "      <td>230.1</td>\n",
       "      <td>37.8</td>\n",
       "      <td>69.2</td>\n",
       "      <td>22.1</td>\n",
       "    </tr>\n",
       "    <tr>\n",
       "      <th>1</th>\n",
       "      <td>2</td>\n",
       "      <td>44.5</td>\n",
       "      <td>39.3</td>\n",
       "      <td>45.1</td>\n",
       "      <td>10.4</td>\n",
       "    </tr>\n",
       "    <tr>\n",
       "      <th>2</th>\n",
       "      <td>3</td>\n",
       "      <td>17.2</td>\n",
       "      <td>45.9</td>\n",
       "      <td>69.3</td>\n",
       "      <td>9.3</td>\n",
       "    </tr>\n",
       "    <tr>\n",
       "      <th>3</th>\n",
       "      <td>4</td>\n",
       "      <td>151.5</td>\n",
       "      <td>41.3</td>\n",
       "      <td>58.5</td>\n",
       "      <td>18.5</td>\n",
       "    </tr>\n",
       "    <tr>\n",
       "      <th>4</th>\n",
       "      <td>5</td>\n",
       "      <td>180.8</td>\n",
       "      <td>10.8</td>\n",
       "      <td>58.4</td>\n",
       "      <td>12.9</td>\n",
       "    </tr>\n",
       "  </tbody>\n",
       "</table>\n",
       "</div>"
      ],
      "text/plain": [
       "   Unnamed: 0     TV  radio  newspaper  sales\n",
       "0           1  230.1   37.8       69.2   22.1\n",
       "1           2   44.5   39.3       45.1   10.4\n",
       "2           3   17.2   45.9       69.3    9.3\n",
       "3           4  151.5   41.3       58.5   18.5\n",
       "4           5  180.8   10.8       58.4   12.9"
      ]
     },
     "execution_count": 4,
     "metadata": {},
     "output_type": "execute_result"
    }
   ],
   "source": [
    "data=pd.read_csv('C:/Users/MANISH/python/Advertising_csv.csv')\n",
    "data.head()"
   ]
  },
  {
   "cell_type": "code",
   "execution_count": null,
   "id": "aba8709d",
   "metadata": {},
   "outputs": [],
   "source": []
  },
  {
   "cell_type": "code",
   "execution_count": 5,
   "id": "4afd4667",
   "metadata": {},
   "outputs": [
    {
     "data": {
      "image/png": "[encoded data removed]",
      "text/plain": [
       "<Figure size 432x288 with 1 Axes>"
      ]
     },
     "metadata": {
      "needs_background": "light"
     },
     "output_type": "display_data"
    },
    {
     "data": {
      "image/png": "[encoded data removed]",
      "text/plain": [
       "<Figure size 432x288 with 1 Axes>"
      ]
     },
     "metadata": {
      "needs_background": "light"
     },
     "output_type": "display_data"
    },
    {
     "data": {
      "image/png": "[encoded data removed]",
      "text/plain": [
       "<Figure size 432x288 with 1 Axes>"
      ]
     },
     "metadata": {
      "needs_background": "light"
     },
     "output_type": "display_data"
    }
   ],
   "source": [
    "plt.figure()\n",
    "plt.scatter(data['radio'],data['sales'],c='red')\n",
    "plt.xlabel('radio ads')\n",
    "plt.ylabel('sales')\n",
    "plt.show()\n",
    "\n",
    "plt.figure()\n",
    "plt.scatter(data['TV'],data['sales'],c='blue')\n",
    "plt.xlabel('TV ads')\n",
    "plt.ylabel('sales')\n",
    "plt.show()\n",
    "\n",
    "plt.figure()\n",
    "plt.scatter(data['newspaper'],data['sales'],c='black')\n",
    "plt.xlabel('newspaper ads')\n",
    "plt.ylabel('sales')\n",
    "plt.show()"
   ]
  },
  {
   "cell_type": "code",
   "execution_count": 9,
   "id": "14d0500c",
   "metadata": {},
   "outputs": [
    {
     "name": "stdout",
     "output_type": "stream",
     "text": [
      "<class 'numpy.ndarray'>\n"
     ]
    },
    {
     "data": {
      "text/plain": [
       "array([37.8, 39.3, 45.9, 41.3, 10.8, 48.9, 32.8, 19.6,  2.1,  2.6,  5.8,\n",
       "       24. , 35.1,  7.6, 32.9, 47.7, 36.6, 39.6, 20.5, 23.9, 27.7,  5.1,\n",
       "       15.9, 16.9, 12.6,  3.5, 29.3, 16.7, 27.1, 16. , 28.3, 17.4,  1.5,\n",
       "       20. ,  1.4,  4.1, 43.8, 49.4, 26.7, 37.7, 22.3, 33.4, 27.7,  8.4,\n",
       "       25.7, 22.5,  9.9, 41.5, 15.8, 11.7,  3.1,  9.6, 41.7, 46.2, 28.8,\n",
       "       49.4, 28.1, 19.2, 49.6, 29.5,  2. , 42.7, 15.5, 29.6, 42.8,  9.3,\n",
       "       24.6, 14.5, 27.5, 43.9, 30.6, 14.3, 33. ,  5.7, 24.6, 43.7,  1.6,\n",
       "       28.5, 29.9,  7.7, 26.7,  4.1, 20.3, 44.5, 43. , 18.4, 27.5, 40.6,\n",
       "       25.5, 47.8,  4.9,  1.5, 33.5, 36.5, 14. , 31.6,  3.5, 21. , 42.3,\n",
       "       41.7,  4.3, 36.3, 10.1, 17.2, 34.3, 46.4, 11. ,  0.3,  0.4, 26.9,\n",
       "        8.2, 38. , 15.4, 20.6, 46.8, 35. , 14.3,  0.8, 36.9, 16. , 26.8,\n",
       "       21.7,  2.4, 34.6, 32.3, 11.8, 38.9,  0. , 49. , 12. , 39.6,  2.9,\n",
       "       27.2, 33.5, 38.6, 47. , 39. , 28.9, 25.9, 43.9, 17. , 35.4, 33.2,\n",
       "        5.7, 14.8,  1.9,  7.3, 49. , 40.3, 25.8, 13.9,  8.4, 23.3, 39.7,\n",
       "       21.1, 11.6, 43.5,  1.3, 36.9, 18.4, 18.1, 35.8, 18.1, 36.8, 14.7,\n",
       "        3.4, 37.6,  5.2, 23.6, 10.6, 11.6, 20.9, 20.1,  7.1,  3.4, 48.9,\n",
       "       30.2,  7.8,  2.3, 10. ,  2.6,  5.4,  5.7, 43. , 21.3, 45.1,  2.1,\n",
       "       28.7, 13.9, 12.1, 41.1, 10.8,  4.1, 42. , 35.6,  3.7,  4.9,  9.3,\n",
       "       42. ,  8.6])"
      ]
     },
     "execution_count": 9,
     "metadata": {},
     "output_type": "execute_result"
    }
   ],
   "source": [
    "print(type(data['radio'].values))\n",
    "data['radio'].values             "
   ]
  },
  {
   "cell_type": "code",
   "execution_count": 10,
   "id": "fd7d8281",
   "metadata": {},
   "outputs": [
    {
     "data": {
      "text/plain": [
       "array([[37.8],\n",
       "       [39.3],\n",
       "       [45.9],\n",
       "       [41.3],\n",
       "       [10.8],\n",
       "       [48.9],\n",
       "       [32.8],\n",
       "       [19.6],\n",
       "       [ 2.1],\n",
       "       [ 2.6],\n",
       "       [ 5.8],\n",
       "       [24. ],\n",
       "       [35.1],\n",
       "       [ 7.6],\n",
       "       [32.9],\n",
       "       [47.7],\n",
       "       [36.6],\n",
       "       [39.6],\n",
       "       [20.5],\n",
       "       [23.9],\n",
       "       [27.7],\n",
       "       [ 5.1],\n",
       "       [15.9],\n",
       "       [16.9],\n",
       "       [12.6],\n",
       "       [ 3.5],\n",
       "       [29.3],\n",
       "       [16.7],\n",
       "       [27.1],\n",
       "       [16. ],\n",
       "       [28.3],\n",
       "       [17.4],\n",
       "       [ 1.5],\n",
       "       [20. ],\n",
       "       [ 1.4],\n",
       "       [ 4.1],\n",
       "       [43.8],\n",
       "       [49.4],\n",
       "       [26.7],\n",
       "       [37.7],\n",
       "       [22.3],\n",
       "       [33.4],\n",
       "       [27.7],\n",
       "       [ 8.4],\n",
       "       [25.7],\n",
       "       [22.5],\n",
       "       [ 9.9],\n",
       "       [41.5],\n",
       "       [15.8],\n",
       "       [11.7],\n",
       "       [ 3.1],\n",
       "       [ 9.6],\n",
       "       [41.7],\n",
       "       [46.2],\n",
       "       [28.8],\n",
       "       [49.4],\n",
       "       [28.1],\n",
       "       [19.2],\n",
       "       [49.6],\n",
       "       [29.5],\n",
       "       [ 2. ],\n",
       "       [42.7],\n",
       "       [15.5],\n",
       "       [29.6],\n",
       "       [42.8],\n",
       "       [ 9.3],\n",
       "       [24.6],\n",
       "       [14.5],\n",
       "       [27.5],\n",
       "       [43.9],\n",
       "       [30.6],\n",
       "       [14.3],\n",
       "       [33. ],\n",
       "       [ 5.7],\n",
       "       [24.6],\n",
       "       [43.7],\n",
       "       [ 1.6],\n",
       "       [28.5],\n",
       "       [29.9],\n",
       "       [ 7.7],\n",
       "       [26.7],\n",
       "       [ 4.1],\n",
       "       [20.3],\n",
       "       [44.5],\n",
       "       [43. ],\n",
       "       [18.4],\n",
       "       [27.5],\n",
       "       [40.6],\n",
       "       [25.5],\n",
       "       [47.8],\n",
       "       [ 4.9],\n",
       "       [ 1.5],\n",
       "       [33.5],\n",
       "       [36.5],\n",
       "       [14. ],\n",
       "       [31.6],\n",
       "       [ 3.5],\n",
       "       [21. ],\n",
       "       [42.3],\n",
       "       [41.7],\n",
       "       [ 4.3],\n",
       "       [36.3],\n",
       "       [10.1],\n",
       "       [17.2],\n",
       "       [34.3],\n",
       "       [46.4],\n",
       "       [11. ],\n",
       "       [ 0.3],\n",
       "       [ 0.4],\n",
       "       [26.9],\n",
       "       [ 8.2],\n",
       "       [38. ],\n",
       "       [15.4],\n",
       "       [20.6],\n",
       "       [46.8],\n",
       "       [35. ],\n",
       "       [14.3],\n",
       "       [ 0.8],\n",
       "       [36.9],\n",
       "       [16. ],\n",
       "       [26.8],\n",
       "       [21.7],\n",
       "       [ 2.4],\n",
       "       [34.6],\n",
       "       [32.3],\n",
       "       [11.8],\n",
       "       [38.9],\n",
       "       [ 0. ],\n",
       "       [49. ],\n",
       "       [12. ],\n",
       "       [39.6],\n",
       "       [ 2.9],\n",
       "       [27.2],\n",
       "       [33.5],\n",
       "       [38.6],\n",
       "       [47. ],\n",
       "       [39. ],\n",
       "       [28.9],\n",
       "       [25.9],\n",
       "       [43.9],\n",
       "       [17. ],\n",
       "       [35.4],\n",
       "       [33.2],\n",
       "       [ 5.7],\n",
       "       [14.8],\n",
       "       [ 1.9],\n",
       "       [ 7.3],\n",
       "       [49. ],\n",
       "       [40.3],\n",
       "       [25.8],\n",
       "       [13.9],\n",
       "       [ 8.4],\n",
       "       [23.3],\n",
       "       [39.7],\n",
       "       [21.1],\n",
       "       [11.6],\n",
       "       [43.5],\n",
       "       [ 1.3],\n",
       "       [36.9],\n",
       "       [18.4],\n",
       "       [18.1],\n",
       "       [35.8],\n",
       "       [18.1],\n",
       "       [36.8],\n",
       "       [14.7],\n",
       "       [ 3.4],\n",
       "       [37.6],\n",
       "       [ 5.2],\n",
       "       [23.6],\n",
       "       [10.6],\n",
       "       [11.6],\n",
       "       [20.9],\n",
       "       [20.1],\n",
       "       [ 7.1],\n",
       "       [ 3.4],\n",
       "       [48.9],\n",
       "       [30.2],\n",
       "       [ 7.8],\n",
       "       [ 2.3],\n",
       "       [10. ],\n",
       "       [ 2.6],\n",
       "       [ 5.4],\n",
       "       [ 5.7],\n",
       "       [43. ],\n",
       "       [21.3],\n",
       "       [45.1],\n",
       "       [ 2.1],\n",
       "       [28.7],\n",
       "       [13.9],\n",
       "       [12.1],\n",
       "       [41.1],\n",
       "       [10.8],\n",
       "       [ 4.1],\n",
       "       [42. ],\n",
       "       [35.6],\n",
       "       [ 3.7],\n",
       "       [ 4.9],\n",
       "       [ 9.3],\n",
       "       [42. ],\n",
       "       [ 8.6]])"
      ]
     },
     "execution_count": 10,
     "metadata": {},
     "output_type": "execute_result"
    }
   ],
   "source": [
    "data['radio'].values.reshape(-1,1)                 # reshape(-1,1) will convert array in single column array"
   ]
  },
  {
   "cell_type": "code",
   "execution_count": 11,
   "id": "bfaaafeb",
   "metadata": {},
   "outputs": [
    {
     "data": {
      "text/plain": [
       "LinearRegression()"
      ]
     },
     "execution_count": 11,
     "metadata": {},
     "output_type": "execute_result"
    }
   ],
   "source": [
    "x=data['radio'].values.reshape(-1,1)                     \n",
    "y=data['sales'].values.reshape(-1,1)\n",
    "reg=LinearRegression()\n",
    "reg.fit(x,y)\n"
   ]
  },
  {
   "cell_type": "code",
   "execution_count": 12,
   "id": "c01367b3",
   "metadata": {},
   "outputs": [
    {
     "data": {
      "text/plain": [
       "0.33203245544529525"
      ]
     },
     "execution_count": 12,
     "metadata": {},
     "output_type": "execute_result"
    }
   ],
   "source": [
    "reg.score(x,y)                     #  R-square --- bad R-square"
   ]
  },
  {
   "cell_type": "code",
   "execution_count": 13,
   "id": "2b544690",
   "metadata": {},
   "outputs": [
    {
     "name": "stdout",
     "output_type": "stream",
     "text": [
      "co-efficient- [[0.20249578]]\n",
      "intercept- [9.3116381]\n"
     ]
    }
   ],
   "source": [
    "print('co-efficient-',reg.coef_)                 # co-efficient\n",
    "print('intercept-',reg.intercept_)                # intercept\n",
    "                                               # #  equation  of regression line\n",
    "\n",
    "                                              #  sales= radio 0.04 + 7.032"
   ]
  },
  {
   "cell_type": "code",
   "execution_count": 14,
   "id": "f549d9ca",
   "metadata": {},
   "outputs": [
    {
     "data": {
      "image/png": "[encoded data removed]",
      "text/plain": [
       "<Figure size 432x288 with 1 Axes>"
      ]
     },
     "metadata": {
      "needs_background": "light"
     },
     "output_type": "display_data"
    }
   ],
   "source": [
    "y_pred=reg.predict(x)\n",
    "plt.figure()\n",
    "plt.scatter(data['radio'],data['sales'],c='pink')\n",
    "plt.plot(data['radio'],y_pred,c='blue',linewidth=1)\n",
    "plt.xlabel('radio ads')\n",
    "plt.ylabel('sales')\n",
    "plt.show()"
   ]
  },
  {
   "cell_type": "code",
   "execution_count": 15,
   "id": "586fb9e1",
   "metadata": {},
   "outputs": [
    {
     "name": "stdout",
     "output_type": "stream",
     "text": [
      "                            OLS Regression Results                            \n",
      "==============================================================================\n",
      "Dep. Variable:                  sales   R-squared:                       0.332\n",
      "Model:                            OLS   Adj. R-squared:                  0.329\n",
      "Method:                 Least Squares   F-statistic:                     98.42\n",
      "Date:                Fri, 10 Mar 2023   Prob (F-statistic):           4.35e-19\n",
      "Time:                        21:13:59   Log-Likelihood:                -573.34\n",
      "No. Observations:                 200   AIC:                             1151.\n",
      "Df Residuals:                     198   BIC:                             1157.\n",
      "Df Model:                           1                                         \n",
      "Covariance Type:            nonrobust                                         \n",
      "==============================================================================\n",
      "                 coef    std err          t      P>|t|      [0.025      0.975]\n",
      "------------------------------------------------------------------------------\n",
      "const          9.3116      0.563     16.542      0.000       8.202      10.422\n",
      "radio          0.2025      0.020      9.921      0.000       0.162       0.243\n",
      "==============================================================================\n",
      "Omnibus:                       19.358   Durbin-Watson:                   1.946\n",
      "Prob(Omnibus):                  0.000   Jarque-Bera (JB):               21.910\n",
      "Skew:                          -0.764   Prob(JB):                     1.75e-05\n",
      "Kurtosis:                       3.544   Cond. No.                         51.4\n",
      "==============================================================================\n",
      "\n",
      "Notes:\n",
      "[1] Standard Errors assume that the covariance matrix of the errors is correctly specified.\n"
     ]
    }
   ],
   "source": [
    "\n",
    "x=data['radio']\n",
    "y=data['sales']\n",
    "x2=sm.add_constant(x)\n",
    "est=sm.OLS(y,x2)          # OLS - ordinary least square method --- used to minimize distanse between actual and predicted points\n",
    "est2=est.fit()\n",
    "print(est2.summary())"
   ]
  },
  {
   "cell_type": "code",
   "execution_count": null,
   "id": "dcc01336",
   "metadata": {},
   "outputs": [],
   "source": []
  },
  {
   "cell_type": "code",
   "execution_count": null,
   "id": "a5553bcd",
   "metadata": {},
   "outputs": [],
   "source": []
  },
  {
   "cell_type": "code",
   "execution_count": null,
   "id": "408c6cb9",
   "metadata": {},
   "outputs": [],
   "source": []
  },
  {
   "cell_type": "code",
   "execution_count": null,
   "id": "07801615",
   "metadata": {},
   "outputs": [],
   "source": []
  },
  {
   "cell_type": "code",
   "execution_count": null,
   "id": "10602f37",
   "metadata": {},
   "outputs": [],
   "source": []
  }
 ],
 "metadata": {
  "kernelspec": {
   "display_name": "Python 3 (ipykernel)",
   "language": "python",
   "name": "python3"
  },
  "language_info": {
   "codemirror_mode": {
    "name": "ipython",
    "version": 3
   },
   "file_extension": ".py",
   "mimetype": "text/x-python",
   "name": "python",
   "nbconvert_exporter": "python",
   "pygments_lexer": "ipython3",
   "version": "3.9.12"
  }
 },
 "nbformat": 4,
 "nbformat_minor": 5
}
