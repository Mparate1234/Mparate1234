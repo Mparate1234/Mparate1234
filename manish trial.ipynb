{
 "cells": [
  {
   "cell_type": "code",
   "execution_count": null,
   "id": "8b82126f",
   "metadata": {},
   "outputs": [],
   "source": []
  },
  {
   "cell_type": "code",
   "execution_count": 1,
   "id": "3a30c384",
   "metadata": {},
   "outputs": [
    {
     "name": "stdout",
     "output_type": "stream",
     "text": [
      "lower: [0, 1, 2, 3, 4]\n",
      "upper: [5, 6, 7, 8, 9]\n"
     ]
    }
   ],
   "source": [
    "midpoint=5\n",
    " \n",
    "lower = []; upper = []\n",
    "\n",
    "for i in range(10):\n",
    "     if (i < midpoint):\n",
    "        lower.append(i)\n",
    "     else:\n",
    "        upper.append(i)\n",
    "print(\"lower:\", lower)\n",
    "print(\"upper:\", upper)"
   ]
  },
  {
   "cell_type": "code",
   "execution_count": 31,
   "id": "a86b70d2",
   "metadata": {},
   "outputs": [
    {
     "name": "stdout",
     "output_type": "stream",
     "text": [
      "2912720415120\n",
      "2912834134896\n"
     ]
    }
   ],
   "source": [
    "x=int (4)\n",
    "y=float (4)\n",
    "print(id(x))\n",
    "print(id(y))"
   ]
  },
  {
   "cell_type": "code",
   "execution_count": 35,
   "id": "6b41dbe6",
   "metadata": {},
   "outputs": [
    {
     "name": "stdout",
     "output_type": "stream",
     "text": [
      "4\n",
      "4\n",
      "4\n",
      "6\n"
     ]
    }
   ],
   "source": [
    "a=4\n",
    "b=5\n",
    "b=a\n",
    "print(a)\n",
    "print(b)\n",
    "a=6\n",
    "print(b)\n",
    "print(a)"
   ]
  },
  {
   "cell_type": "code",
   "execution_count": null,
   "id": "494172e5",
   "metadata": {},
   "outputs": [],
   "source": []
  },
  {
   "cell_type": "code",
   "execution_count": 26,
   "id": "1fab1c75",
   "metadata": {},
   "outputs": [
    {
     "name": "stdout",
     "output_type": "stream",
     "text": [
      "leaser than 50= [0.1, 0.956, 2, 3, 5, 5, 10, 25, 42]\n",
      "greater than 50 = [56, 63, 65, 86, 96, 102, 105, 568]\n"
     ]
    }
   ],
   "source": [
    "x=[10,25,65,2,5,86,102,568,96,42,3,5,63,105,0.1,56,0.956]\n",
    "p=[] ; q=[]\n",
    "for i in list(x):\n",
    "    if (i<50) :\n",
    "        p.append(i)\n",
    "    else:\n",
    "        q.append(i)\n",
    "p.sort()\n",
    "q.sort()\n",
    "print('less than 50=',p)\n",
    "print('greater than 50 =',q)\n"
   ]
  },
  {
   "cell_type": "code",
   "execution_count": null,
   "id": "9da0c130",
   "metadata": {},
   "outputs": [],
   "source": []
  },
  {
   "cell_type": "code",
   "execution_count": 24,
   "id": "b8fd3527",
   "metadata": {},
   "outputs": [
    {
     "name": "stdout",
     "output_type": "stream",
     "text": [
      "[1, 2, 3, 4]\n"
     ]
    }
   ],
   "source": [
    " L = [4,2,3,1]\n",
    " L.sort()\n",
    " print(L)"
   ]
  },
  {
   "cell_type": "code",
   "execution_count": null,
   "id": "4870ac4b",
   "metadata": {},
   "outputs": [],
   "source": []
  },
  {
   "cell_type": "code",
   "execution_count": null,
   "id": "255a9fdd",
   "metadata": {},
   "outputs": [],
   "source": []
  },
  {
   "cell_type": "code",
   "execution_count": 4,
   "id": "d5b2affe",
   "metadata": {},
   "outputs": [
    {
     "name": "stdout",
     "output_type": "stream",
     "text": [
      "5\n"
     ]
    }
   ],
   "source": [
    "x=5\n",
    "if x < 4:\n",
    "    y = x * 2 \n",
    "print(x) "
   ]
  },
  {
   "cell_type": "code",
   "execution_count": 1,
   "id": "29c6c555",
   "metadata": {},
   "outputs": [
    {
     "name": "stdout",
     "output_type": "stream",
     "text": [
      "6\n"
     ]
    }
   ],
   "source": [
    "x=3\n",
    "if x < 4:\n",
    "    y = x * 2 \n",
    "    print(y)\n"
   ]
  },
  {
   "cell_type": "code",
   "execution_count": null,
   "id": "5e659873",
   "metadata": {},
   "outputs": [],
   "source": []
  },
  {
   "cell_type": "code",
   "execution_count": null,
   "id": "4bb137cf",
   "metadata": {},
   "outputs": [],
   "source": []
  },
  {
   "cell_type": "code",
   "execution_count": 13,
   "id": "de46fb3b",
   "metadata": {},
   "outputs": [
    {
     "name": "stdout",
     "output_type": "stream",
     "text": [
      "-----------------\n",
      "operation:\n",
      "1.ADD\n",
      "2.SUBTRACT\n",
      "3.MULTIPLY\n",
      "4.DEVIDE\n",
      "5.SQUARE\n",
      "\n",
      "celect operation no = 5\n",
      "1st no = 34\n",
      "2nd no = 68\n",
      "square of 34 and 68 = 1156 and 4624\n",
      "want more calculation \"yes\" or \"no\"= yes\n",
      "yes\n",
      "-----------------\n",
      "operation:\n",
      "1.ADD\n",
      "2.SUBTRACT\n",
      "3.MULTIPLY\n",
      "4.DEVIDE\n",
      "5.SQUARE\n",
      "\n",
      "celect operation no = no\n"
     ]
    },
    {
     "ename": "ValueError",
     "evalue": "invalid literal for int() with base 10: 'no'",
     "output_type": "error",
     "traceback": [
      "\u001b[1;31m---------------------------------------------------------------------------\u001b[0m",
      "\u001b[1;31mValueError\u001b[0m                                Traceback (most recent call last)",
      "Input \u001b[1;32mIn [13]\u001b[0m, in \u001b[0;36m<cell line: 2>\u001b[1;34m()\u001b[0m\n\u001b[0;32m      2\u001b[0m \u001b[38;5;28;01mwhile\u001b[39;00m i\u001b[38;5;241m==\u001b[39m\u001b[38;5;124m'\u001b[39m\u001b[38;5;124myes\u001b[39m\u001b[38;5;124m'\u001b[39m:\n\u001b[0;32m      3\u001b[0m     \u001b[38;5;28mprint\u001b[39m(\u001b[38;5;124m'\u001b[39m\u001b[38;5;124m-----------------\u001b[39m\u001b[38;5;130;01m\\n\u001b[39;00m\u001b[38;5;124moperation:\u001b[39m\u001b[38;5;130;01m\\n\u001b[39;00m\u001b[38;5;124m1.ADD\u001b[39m\u001b[38;5;130;01m\\n\u001b[39;00m\u001b[38;5;124m2.SUBTRACT\u001b[39m\u001b[38;5;130;01m\\n\u001b[39;00m\u001b[38;5;124m3.MULTIPLY\u001b[39m\u001b[38;5;130;01m\\n\u001b[39;00m\u001b[38;5;124m4.DEVIDE\u001b[39m\u001b[38;5;130;01m\\n\u001b[39;00m\u001b[38;5;124m5.SQUARE\u001b[39m\u001b[38;5;124m'\u001b[39m)\n\u001b[1;32m----> 4\u001b[0m     o\u001b[38;5;241m=\u001b[39m\u001b[38;5;28;43mint\u001b[39;49m\u001b[43m(\u001b[49m\u001b[38;5;28;43minput\u001b[39;49m\u001b[43m(\u001b[49m\u001b[38;5;124;43m'\u001b[39;49m\u001b[38;5;130;43;01m\\n\u001b[39;49;00m\u001b[38;5;124;43mcelect operation no = \u001b[39;49m\u001b[38;5;124;43m'\u001b[39;49m\u001b[43m)\u001b[49m\u001b[43m)\u001b[49m\n\u001b[0;32m      6\u001b[0m     \u001b[38;5;28;01mif\u001b[39;00m o\u001b[38;5;241m<\u001b[39m\u001b[38;5;241m=\u001b[39m\u001b[38;5;241m5\u001b[39m:\n\u001b[0;32m      7\u001b[0m         x\u001b[38;5;241m=\u001b[39m\u001b[38;5;28mint\u001b[39m(\u001b[38;5;28minput\u001b[39m(\u001b[38;5;124m'\u001b[39m\u001b[38;5;124m1st no = \u001b[39m\u001b[38;5;124m'\u001b[39m))\n",
      "\u001b[1;31mValueError\u001b[0m: invalid literal for int() with base 10: 'no'"
     ]
    }
   ],
   "source": [
    "\n",
    "i='yes'\n",
    "while i=='yes':\n",
    "    print('-----------------\\noperation:\\n1.ADD\\n2.SUBTRACT\\n3.MULTIPLY\\n4.DEVIDE\\n5.SQUARE')\n",
    "    o=int(input('\\ncelect operation no = '))\n",
    "    \n",
    "    if o<=5:\n",
    "        x=int(input('1st no = '))\n",
    "        y=int(input('2nd no = '))\n",
    "        if o==1:\n",
    "            print('adding',x,'and',y,'=',x+y)\n",
    "        elif o==2:\n",
    "            print('subtracting',x,'and',y,'=',x-y)\n",
    "        elif o==3:\n",
    "            print('multiply',x,'and',y,'=',x*y)\n",
    "        elif o==4:\n",
    "            print('devide',x,'and',y,'=',x/y)\n",
    "        elif o==5:\n",
    "            print('square of',x,'and',y,'=',x**2,'and',y**2)\n",
    "            \n",
    "        print(input('want more calculation \"yes\" or \"no\"= '))\n",
    "       \n",
    "    else:\n",
    "        print('wrong operating no selected')\n",
    "    \n"
   ]
  },
  {
   "cell_type": "code",
   "execution_count": null,
   "id": "48f37902",
   "metadata": {},
   "outputs": [],
   "source": []
  },
  {
   "cell_type": "code",
   "execution_count": null,
   "id": "35d2a71f",
   "metadata": {},
   "outputs": [],
   "source": []
  },
  {
   "cell_type": "code",
   "execution_count": null,
   "id": "c454a5dc",
   "metadata": {},
   "outputs": [],
   "source": []
  },
  {
   "cell_type": "code",
   "execution_count": null,
   "id": "3144ef0b",
   "metadata": {},
   "outputs": [],
   "source": []
  },
  {
   "cell_type": "code",
   "execution_count": 8,
   "id": "7ee557b8",
   "metadata": {},
   "outputs": [
    {
     "name": "stdout",
     "output_type": "stream",
     "text": [
      "enter integer value = 5\n",
      "value entered is an integer\n"
     ]
    }
   ],
   "source": [
    "try:\n",
    "    x=int(input('enter integer value = '))\n",
    "except:\n",
    "    print(\"value entered is not an integer\")\n",
    "else:\n",
    "    print(\"value entered is an integer\")"
   ]
  },
  {
   "cell_type": "code",
   "execution_count": null,
   "id": "89260cff",
   "metadata": {},
   "outputs": [],
   "source": []
  },
  {
   "cell_type": "code",
   "execution_count": 18,
   "id": "a83fb845",
   "metadata": {},
   "outputs": [
    {
     "name": "stdout",
     "output_type": "stream",
     "text": [
      "enter 3 values = 2 6 9 \n",
      "no of all_rounder=  2\n",
      "no of batsman=  6\n",
      "no of boller=  9\n"
     ]
    }
   ],
   "source": [
    "all_rounder,batsman,boller=input('enter 3 values = ').split()\n",
    "print('no of all_rounder= ',all_rounder)\n",
    "print('no of batsman= ',batsman)\n",
    "print('no of boller= ',boller)"
   ]
  },
  {
   "cell_type": "code",
   "execution_count": 3,
   "id": "f83ee202",
   "metadata": {},
   "outputs": [
    {
     "name": "stdout",
     "output_type": "stream",
     "text": [
      "sum of all: 16\n"
     ]
    }
   ],
   "source": [
    "a=(1,2,5,8)\n",
    "type(a)\n",
    "v='manish '\n",
    "print(\"sum of all:\", sum(a))"
   ]
  },
  {
   "cell_type": "code",
   "execution_count": null,
   "id": "1a756cfb",
   "metadata": {},
   "outputs": [],
   "source": []
  },
  {
   "cell_type": "code",
   "execution_count": 9,
   "id": "9e1cfd0b",
   "metadata": {},
   "outputs": [
    {
     "name": "stdout",
     "output_type": "stream",
     "text": [
      "manish rocks rocks rocks rocks rocks \n",
      "manish rocks rocks rocks rocks rocks \n",
      "manish rocks rocks rocks rocks rocks \n",
      "manish rocks rocks rocks rocks rocks \n",
      "manish rocks rocks rocks rocks rocks \n"
     ]
    }
   ],
   "source": [
    "i=1\n",
    "\n",
    "while i<=5:\n",
    "    print(\"manish\",end=\" \")\n",
    "    j=1\n",
    "    while j<=5:\n",
    "        print('rocks',end=\" \")\n",
    "        j+=1\n",
    "    i+=1\n",
    "    print()\n",
    "    "
   ]
  },
  {
   "cell_type": "code",
   "execution_count": null,
   "id": "07cf6d82",
   "metadata": {},
   "outputs": [],
   "source": []
  },
  {
   "cell_type": "code",
   "execution_count": null,
   "id": "8b615dc0",
   "metadata": {},
   "outputs": [],
   "source": [
    "\n"
   ]
  },
  {
   "cell_type": "code",
   "execution_count": null,
   "id": "efbb8464",
   "metadata": {},
   "outputs": [],
   "source": []
  },
  {
   "cell_type": "code",
   "execution_count": 13,
   "id": "65e5002f",
   "metadata": {},
   "outputs": [
    {
     "name": "stdout",
     "output_type": "stream",
     "text": [
      "3.0\n"
     ]
    },
    {
     "data": {
      "text/plain": [
       "2.0"
      ]
     },
     "execution_count": 13,
     "metadata": {},
     "output_type": "execute_result"
    }
   ],
   "source": [
    "a=3+2j\n",
    "print(a.real)\n",
    "a.imag"
   ]
  },
  {
   "cell_type": "code",
   "execution_count": null,
   "id": "e4172646",
   "metadata": {},
   "outputs": [],
   "source": []
  },
  {
   "cell_type": "code",
   "execution_count": null,
   "id": "d748a337",
   "metadata": {},
   "outputs": [],
   "source": []
  },
  {
   "cell_type": "code",
   "execution_count": null,
   "id": "ebf250a3",
   "metadata": {},
   "outputs": [],
   "source": []
  },
  {
   "cell_type": "code",
   "execution_count": null,
   "id": "03f34df3",
   "metadata": {},
   "outputs": [],
   "source": []
  }
 ],
 "metadata": {
  "kernelspec": {
   "display_name": "Python 3 (ipykernel)",
   "language": "python",
   "name": "python3"
  },
  "language_info": {
   "codemirror_mode": {
    "name": "ipython",
    "version": 3
   },
   "file_extension": ".py",
   "mimetype": "text/x-python",
   "name": "python",
   "nbconvert_exporter": "python",
   "pygments_lexer": "ipython3",
   "version": "3.9.12"
  }
 },
 "nbformat": 4,
 "nbformat_minor": 5
}
