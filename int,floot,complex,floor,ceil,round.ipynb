{
 "cells": [
  {
   "cell_type": "markdown",
   "id": "92653d46",
   "metadata": {},
   "source": [
    "#               24 may"
   ]
  },
  {
   "cell_type": "code",
   "execution_count": null,
   "id": "024b7163",
   "metadata": {},
   "outputs": [],
   "source": []
  },
  {
   "cell_type": "code",
   "execution_count": null,
   "id": "da29e37b",
   "metadata": {},
   "outputs": [],
   "source": []
  },
  {
   "cell_type": "code",
   "execution_count": 1,
   "id": "c9f55113",
   "metadata": {},
   "outputs": [
    {
     "data": {
      "text/plain": [
       "33.333333333333336"
      ]
     },
     "execution_count": 1,
     "metadata": {},
     "output_type": "execute_result"
    }
   ],
   "source": [
    "100/3 "
   ]
  },
  {
   "cell_type": "code",
   "execution_count": 2,
   "id": "fe00278b",
   "metadata": {},
   "outputs": [
    {
     "data": {
      "text/plain": [
       "33"
      ]
     },
     "execution_count": 2,
     "metadata": {},
     "output_type": "execute_result"
    }
   ],
   "source": [
    "100//3"
   ]
  },
  {
   "cell_type": "code",
   "execution_count": 3,
   "id": "5d2a4a23",
   "metadata": {},
   "outputs": [
    {
     "data": {
      "text/plain": [
       "-34"
      ]
     },
     "execution_count": 3,
     "metadata": {},
     "output_type": "execute_result"
    }
   ],
   "source": [
    "100//-3"
   ]
  },
  {
   "cell_type": "code",
   "execution_count": 4,
   "id": "347d35fe",
   "metadata": {},
   "outputs": [
    {
     "name": "stdout",
     "output_type": "stream",
     "text": [
      "1.6666666666666667\n",
      "<class 'float'>\n"
     ]
    }
   ],
   "source": [
    "a=5/3\n",
    "print(a)\n",
    "print(type(a))"
   ]
  },
  {
   "cell_type": "code",
   "execution_count": 5,
   "id": "8d18d06d",
   "metadata": {},
   "outputs": [
    {
     "data": {
      "text/plain": [
       "int"
      ]
     },
     "execution_count": 5,
     "metadata": {},
     "output_type": "execute_result"
    }
   ],
   "source": [
    "type(100//-3)"
   ]
  },
  {
   "cell_type": "code",
   "execution_count": 6,
   "id": "9824e5b8",
   "metadata": {},
   "outputs": [
    {
     "name": "stdout",
     "output_type": "stream",
     "text": [
      "<class 'complex'>\n",
      "3.0\n",
      "5.0\n"
     ]
    }
   ],
   "source": [
    "##  complex\n",
    "\n",
    "x=3+5j\n",
    "print(type(x))\n",
    "print(x.real)\n",
    "print(x.imag)"
   ]
  },
  {
   "cell_type": "code",
   "execution_count": 7,
   "id": "1e70fd37",
   "metadata": {},
   "outputs": [],
   "source": [
    "## floor and ceiling \n",
    " "
   ]
  },
  {
   "cell_type": "code",
   "execution_count": 8,
   "id": "f3524675",
   "metadata": {},
   "outputs": [
    {
     "data": {
      "text/plain": [
       "3"
      ]
     },
     "execution_count": 8,
     "metadata": {},
     "output_type": "execute_result"
    }
   ],
   "source": [
    "# floor : smallest integer \n",
    "\n",
    "import math\n",
    "math.floor(3.666)"
   ]
  },
  {
   "cell_type": "code",
   "execution_count": 9,
   "id": "94b2843e",
   "metadata": {},
   "outputs": [
    {
     "data": {
      "text/plain": [
       "4"
      ]
     },
     "execution_count": 9,
     "metadata": {},
     "output_type": "execute_result"
    }
   ],
   "source": [
    "#ceiling: largest integer\n",
    "math.ceil(3.6666666)"
   ]
  },
  {
   "cell_type": "code",
   "execution_count": 10,
   "id": "05d3a1bc",
   "metadata": {},
   "outputs": [
    {
     "data": {
      "text/plain": [
       "4"
      ]
     },
     "execution_count": 10,
     "metadata": {},
     "output_type": "execute_result"
    }
   ],
   "source": [
    "round(3.666666)   #greater than 3.5 so = 4"
   ]
  },
  {
   "cell_type": "code",
   "execution_count": 11,
   "id": "04a2a68a",
   "metadata": {},
   "outputs": [
    {
     "data": {
      "text/plain": [
       "3"
      ]
     },
     "execution_count": 11,
     "metadata": {},
     "output_type": "execute_result"
    }
   ],
   "source": [
    "round(3.2222222)     #less than 3.5 so=3"
   ]
  },
  {
   "cell_type": "code",
   "execution_count": 12,
   "id": "ff98b412",
   "metadata": {},
   "outputs": [
    {
     "data": {
      "text/plain": [
       "3.667"
      ]
     },
     "execution_count": 12,
     "metadata": {},
     "output_type": "execute_result"
    }
   ],
   "source": [
    "round(3.666666,3)   #greater than 3.5 so =4       (      ,3)- will give till 3 digits"
   ]
  },
  {
   "cell_type": "code",
   "execution_count": null,
   "id": "8d5ecf23",
   "metadata": {},
   "outputs": [],
   "source": []
  },
  {
   "cell_type": "code",
   "execution_count": null,
   "id": "002b23d6",
   "metadata": {},
   "outputs": [],
   "source": []
  }
 ],
 "metadata": {
  "kernelspec": {
   "display_name": "Python 3 (ipykernel)",
   "language": "python",
   "name": "python3"
  },
  "language_info": {
   "codemirror_mode": {
    "name": "ipython",
    "version": 3
   },
   "file_extension": ".py",
   "mimetype": "text/x-python",
   "name": "python",
   "nbconvert_exporter": "python",
   "pygments_lexer": "ipython3",
   "version": "3.9.12"
  }
 },
 "nbformat": 4,
 "nbformat_minor": 5
}
