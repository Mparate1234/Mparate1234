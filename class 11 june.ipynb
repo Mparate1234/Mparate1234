{
 "cells": [
  {
   "cell_type": "markdown",
   "id": "ab3bf0c0",
   "metadata": {},
   "source": [
    "#                      11 june "
   ]
  },
  {
   "cell_type": "code",
   "execution_count": null,
   "id": "cf12383d",
   "metadata": {},
   "outputs": [],
   "source": [
    "## unoversal functions"
   ]
  },
  {
   "cell_type": "code",
   "execution_count": null,
   "id": "d3450e43",
   "metadata": {},
   "outputs": [],
   "source": []
  },
  {
   "cell_type": "code",
   "execution_count": 4,
   "id": "e9b7158a",
   "metadata": {},
   "outputs": [
    {
     "name": "stdout",
     "output_type": "stream",
     "text": [
      "[[0 1 2]\n",
      " [3 4 5]\n",
      " [6 7 8]]\n",
      "[[1. 1. 1.]\n",
      " [1. 1. 1.]\n",
      " [1. 1. 1.]]\n",
      "[[ 3.  3.  3.]\n",
      " [12. 12. 12.]\n",
      " [21. 21. 21.]]\n"
     ]
    }
   ],
   "source": [
    "## matrix product\n",
    "\n",
    "import numpy as np\n",
    "a=np.arange(0,9).reshape(3,3)\n",
    "\n",
    "b=np.ones((3,3))\n",
    "print(a)\n",
    "print(b)\n",
    "print(np.dot(a,b))          ## this is DOT product"
   ]
  },
  {
   "cell_type": "code",
   "execution_count": 5,
   "id": "e80515bc",
   "metadata": {},
   "outputs": [
    {
     "data": {
      "text/plain": [
       "array([1., 5., 7., 9.])"
      ]
     },
     "execution_count": 5,
     "metadata": {},
     "output_type": "execute_result"
    }
   ],
   "source": [
    "np.sqrt([1,25,49,81])              # square root\n"
   ]
  },
  {
   "cell_type": "code",
   "execution_count": 9,
   "id": "602b628b",
   "metadata": {},
   "outputs": [
    {
     "name": "stdout",
     "output_type": "stream",
     "text": [
      "[0 1 2 3 4 5 6]\n"
     ]
    },
    {
     "data": {
      "text/plain": [
       "array([0, 1, 2, 0, 1, 2, 0], dtype=int32)"
      ]
     },
     "execution_count": 9,
     "metadata": {},
     "output_type": "execute_result"
    }
   ],
   "source": [
    "## gives the remainder\n",
    "print(np.arange(7))\n",
    "np.mod(np.arange(7),3)"
   ]
  },
  {
   "cell_type": "code",
   "execution_count": 7,
   "id": "a014e584",
   "metadata": {},
   "outputs": [
    {
     "name": "stderr",
     "output_type": "stream",
     "text": [
      "C:\\Users\\MANISH\\AppData\\Local\\Temp\\ipykernel_5500\\2933082444.py:1: RuntimeWarning: divide by zero encountered in log\n",
      "  np.log(0)\n"
     ]
    },
    {
     "data": {
      "text/plain": [
       "-inf"
      ]
     },
     "execution_count": 7,
     "metadata": {},
     "output_type": "execute_result"
    }
   ],
   "source": [
    "np.log(0)"
   ]
  },
  {
   "cell_type": "code",
   "execution_count": 18,
   "id": "043edb43",
   "metadata": {},
   "outputs": [
    {
     "ename": "NameError",
     "evalue": "name 'inf' is not defined",
     "output_type": "error",
     "traceback": [
      "\u001b[1;31m---------------------------------------------------------------------------\u001b[0m",
      "\u001b[1;31mNameError\u001b[0m                                 Traceback (most recent call last)",
      "Input \u001b[1;32mIn [18]\u001b[0m, in \u001b[0;36m<cell line: 1>\u001b[1;34m()\u001b[0m\n\u001b[1;32m----> 1\u001b[0m np\u001b[38;5;241m.\u001b[39mlog(\u001b[43minf\u001b[49m)\n",
      "\u001b[1;31mNameError\u001b[0m: name 'inf' is not defined"
     ]
    }
   ],
   "source": [
    "np.log(inf)"
   ]
  },
  {
   "cell_type": "code",
   "execution_count": 22,
   "id": "8ea94254",
   "metadata": {},
   "outputs": [
    {
     "data": {
      "text/plain": [
       "array([0.        , 0.69314718, 1.09861229, 1.38629436, 1.60943791])"
      ]
     },
     "execution_count": 22,
     "metadata": {},
     "output_type": "execute_result"
    }
   ],
   "source": [
    "np.log([1,2,3,4,5])"
   ]
  },
  {
   "cell_type": "code",
   "execution_count": null,
   "id": "da697eeb",
   "metadata": {},
   "outputs": [],
   "source": []
  },
  {
   "cell_type": "code",
   "execution_count": 26,
   "id": "c6717a14",
   "metadata": {},
   "outputs": [
    {
     "name": "stdout",
     "output_type": "stream",
     "text": [
      "45\n",
      "1\n",
      "9\n",
      "5.0\n",
      "2.581988897471611\n"
     ]
    }
   ],
   "source": [
    "## aggregate functions\n",
    "\n",
    "a=np.array([1,2,3,4,5,6,7,8,9])\n",
    "print(a.sum())\n",
    "print(a.min())\n",
    "print(a.max())\n",
    "print(a.mean())\n",
    "print(a.std())"
   ]
  },
  {
   "cell_type": "code",
   "execution_count": null,
   "id": "0e362413",
   "metadata": {},
   "outputs": [],
   "source": []
  },
  {
   "cell_type": "code",
   "execution_count": null,
   "id": "2536db8d",
   "metadata": {},
   "outputs": [],
   "source": []
  },
  {
   "cell_type": "code",
   "execution_count": 34,
   "id": "6a191253",
   "metadata": {},
   "outputs": [
    {
     "data": {
      "text/plain": [
       "True"
      ]
     },
     "execution_count": 34,
     "metadata": {},
     "output_type": "execute_result"
    }
   ],
   "source": [
    "## logical functions\n",
    "\n",
    "np.all([[True,True],[True,True]])"
   ]
  },
  {
   "cell_type": "code",
   "execution_count": 10,
   "id": "357cf213",
   "metadata": {},
   "outputs": [
    {
     "data": {
      "text/plain": [
       "False"
      ]
     },
     "execution_count": 10,
     "metadata": {},
     "output_type": "execute_result"
    }
   ],
   "source": [
    "np.all([[True,True],[True,False]])            ## if any of the value is fales then it gives false"
   ]
  },
  {
   "cell_type": "code",
   "execution_count": 46,
   "id": "b23383d2",
   "metadata": {},
   "outputs": [
    {
     "data": {
      "text/plain": [
       "array([[ True,  True],\n",
       "       [ True, False],\n",
       "       [ True, False]])"
      ]
     },
     "execution_count": 46,
     "metadata": {},
     "output_type": "execute_result"
    }
   ],
   "source": [
    "np.array([[True,True],[True,False],[True,False]])"
   ]
  },
  {
   "cell_type": "code",
   "execution_count": 42,
   "id": "d96386c2",
   "metadata": {},
   "outputs": [
    {
     "data": {
      "text/plain": [
       "False"
      ]
     },
     "execution_count": 42,
     "metadata": {},
     "output_type": "execute_result"
    }
   ],
   "source": [
    "np.all([-3,-2,0,1,5])       # 0 is always considered as false"
   ]
  },
  {
   "cell_type": "code",
   "execution_count": 37,
   "id": "09001910",
   "metadata": {},
   "outputs": [
    {
     "data": {
      "text/plain": [
       "True"
      ]
     },
     "execution_count": 37,
     "metadata": {},
     "output_type": "execute_result"
    }
   ],
   "source": [
    "np.all([-3,-2,1,5])  "
   ]
  },
  {
   "cell_type": "code",
   "execution_count": 22,
   "id": "011ec548",
   "metadata": {},
   "outputs": [
    {
     "data": {
      "text/plain": [
       "True"
      ]
     },
     "execution_count": 22,
     "metadata": {},
     "output_type": "execute_result"
    }
   ],
   "source": [
    "np.any([1,0,2,0,5])      # if atleast one value is not zero the it's true"
   ]
  },
  {
   "cell_type": "code",
   "execution_count": 21,
   "id": "458258a5",
   "metadata": {},
   "outputs": [
    {
     "name": "stdout",
     "output_type": "stream",
     "text": [
      "[[ True  True]\n",
      " [ True  True]\n",
      " [ True False]]\n"
     ]
    },
    {
     "data": {
      "text/plain": [
       "array([ True, False])"
      ]
     },
     "execution_count": 21,
     "metadata": {},
     "output_type": "execute_result"
    }
   ],
   "source": [
    "## all will check for all values\n",
    "print(np.array([[True,True],[True,True],[True,False]]))\n",
    "np.all(np.array([[True,True],[True,True],[True,False]]),axis=0)       # axis = 0 means column checking columns are true or false"
   ]
  },
  {
   "cell_type": "code",
   "execution_count": 23,
   "id": "f821346c",
   "metadata": {},
   "outputs": [
    {
     "name": "stdout",
     "output_type": "stream",
     "text": [
      "[[ True  True]\n",
      " [ True  True]\n",
      " [ True False]]\n"
     ]
    },
    {
     "data": {
      "text/plain": [
       "array([ True,  True, False])"
      ]
     },
     "execution_count": 23,
     "metadata": {},
     "output_type": "execute_result"
    }
   ],
   "source": [
    "print(np.array([[True,True],[True,True],[True,False]]))\n",
    "np.all(np.array([[True,True],[True,True],[True,False]]),axis=1)        ## axis=1 means rows checking rows are true or false"
   ]
  },
  {
   "cell_type": "code",
   "execution_count": 24,
   "id": "3b85995c",
   "metadata": {},
   "outputs": [
    {
     "name": "stdout",
     "output_type": "stream",
     "text": [
      "[[ True  True]\n",
      " [ True  True]\n",
      " [ True False]]\n"
     ]
    },
    {
     "data": {
      "text/plain": [
       "array([ True,  True])"
      ]
     },
     "execution_count": 24,
     "metadata": {},
     "output_type": "execute_result"
    }
   ],
   "source": [
    "## any will check for  atleast one true values\n",
    "print(np.array([[True,True],[True,True],[True,False]]))\n",
    "\n",
    "np.any(np.array([[True,True],[True,True],[True,False]]),axis=0)          "
   ]
  },
  {
   "cell_type": "code",
   "execution_count": 25,
   "id": "a7110a1f",
   "metadata": {},
   "outputs": [
    {
     "name": "stdout",
     "output_type": "stream",
     "text": [
      "[[ True  True]\n",
      " [False  True]\n",
      " [False False]]\n"
     ]
    },
    {
     "data": {
      "text/plain": [
       "array([ True,  True, False])"
      ]
     },
     "execution_count": 25,
     "metadata": {},
     "output_type": "execute_result"
    }
   ],
   "source": [
    "\n",
    "print(np.array([[True,True],[False,True],[False,False]]))\n",
    "np.any(np.array([[True,True],[False,True],[False,False]]),axis=1)          # if any value is false then it will print false "
   ]
  },
  {
   "cell_type": "code",
   "execution_count": null,
   "id": "422e8f2f",
   "metadata": {},
   "outputs": [],
   "source": []
  },
  {
   "cell_type": "code",
   "execution_count": 56,
   "id": "3af3aba8",
   "metadata": {},
   "outputs": [],
   "source": [
    "## logic functions"
   ]
  },
  {
   "cell_type": "code",
   "execution_count": 64,
   "id": "631b6958",
   "metadata": {},
   "outputs": [
    {
     "name": "stdout",
     "output_type": "stream",
     "text": [
      "[False False  True  True False]\n",
      "[ True  True  True  True  True]\n",
      "[ True  True False False False]\n"
     ]
    }
   ],
   "source": [
    "x=np.array([0,1,2,3,4])\n",
    "print(np.logical_and(x>1,x<4))        # if both the true only then true\n",
    "print(np.logical_or(x>1,x<4))         # atlest one condition should be true\n",
    "print(np.logical_not(x>1,x<4))        ## revers the outcome"
   ]
  },
  {
   "cell_type": "code",
   "execution_count": null,
   "id": "03da8462",
   "metadata": {},
   "outputs": [],
   "source": []
  },
  {
   "cell_type": "code",
   "execution_count": null,
   "id": "9a021ec5",
   "metadata": {},
   "outputs": [],
   "source": []
  },
  {
   "cell_type": "code",
   "execution_count": null,
   "id": "1a75de1d",
   "metadata": {},
   "outputs": [],
   "source": [
    "########                              indexing  "
   ]
  },
  {
   "cell_type": "code",
   "execution_count": 77,
   "id": "9ab95a9a",
   "metadata": {},
   "outputs": [
    {
     "name": "stdout",
     "output_type": "stream",
     "text": [
      "[21 22 23 24 25]\n",
      "21\n",
      "21\n",
      "[22 23]\n",
      "[22 23]\n"
     ]
    }
   ],
   "source": [
    "import numpy as np\n",
    "arr=np.arange(21,26)\n",
    "print(arr)\n",
    "print(arr[0])                          ## i d indexing\n",
    "print(arr[-5])\n",
    "print(arr[1:3])\n",
    "print(arr[-4:-2])"
   ]
  },
  {
   "cell_type": "code",
   "execution_count": null,
   "id": "940af73c",
   "metadata": {},
   "outputs": [],
   "source": []
  },
  {
   "cell_type": "code",
   "execution_count": null,
   "id": "8fa10e5f",
   "metadata": {},
   "outputs": [],
   "source": [
    "  ###      multiple dimention indexing\n",
    "    \n",
    "    \n"
   ]
  },
  {
   "cell_type": "code",
   "execution_count": 10,
   "id": "958a35f5",
   "metadata": {},
   "outputs": [
    {
     "name": "stdout",
     "output_type": "stream",
     "text": [
      "[[21 22 23]\n",
      " [24 25 26]\n",
      " [27 28 29]]\n",
      "21\n",
      "27\n",
      "22\n",
      "26\n",
      "21 27 22 26\n"
     ]
    }
   ],
   "source": [
    "import numpy as np\n",
    "arr=np.arange(21,30).reshape(3,3)\n",
    "print(arr)\n",
    "\n",
    "print(arr[0,0])\n",
    "print(arr[2,0])\n",
    "print(arr[0,1])\n",
    "print(arr[1,2])\n",
    "\n",
    "print(arr[0,0],arr[2,0],arr[0,1],arr[1,2])\n"
   ]
  },
  {
   "cell_type": "code",
   "execution_count": null,
   "id": "a715bd30",
   "metadata": {},
   "outputs": [],
   "source": []
  },
  {
   "cell_type": "code",
   "execution_count": 26,
   "id": "d2bcfe62",
   "metadata": {},
   "outputs": [
    {
     "name": "stdout",
     "output_type": "stream",
     "text": [
      "[[21 22 23]\n",
      " [24 25 26]\n",
      " [27 28 29]]\n",
      "-----------\n",
      "[[21 22]\n",
      " [24 25]]\n",
      "[[25]\n",
      " [28]]\n"
     ]
    }
   ],
   "source": [
    "import numpy as np\n",
    "arr=np.arange(21,30).reshape(3,3)\n",
    "print(arr)\n",
    "print('-----------')\n",
    "print(arr[0:2,0:2])\n",
    "print(arr[1:3,1:2])"
   ]
  },
  {
   "cell_type": "code",
   "execution_count": 34,
   "id": "d10286c4",
   "metadata": {},
   "outputs": [
    {
     "name": "stdout",
     "output_type": "stream",
     "text": [
      "[[22 23]\n",
      " [25 26]]\n"
     ]
    }
   ],
   "source": [
    "print(arr[0:2,1:3])"
   ]
  },
  {
   "cell_type": "code",
   "execution_count": null,
   "id": "03919927",
   "metadata": {},
   "outputs": [],
   "source": []
  },
  {
   "cell_type": "code",
   "execution_count": 35,
   "id": "12398bf6",
   "metadata": {},
   "outputs": [
    {
     "name": "stdout",
     "output_type": "stream",
     "text": [
      "[[21 22 23]\n",
      " [24 25 26]\n",
      " [27 28 29]]\n"
     ]
    }
   ],
   "source": [
    "### array transformation\n",
    "\n",
    "# reshape and resize are allready explained\n",
    "import numpy as np\n",
    "arr=np.arange(21,30).reshape(3,3)                         \n",
    "print(arr)"
   ]
  },
  {
   "cell_type": "code",
   "execution_count": 38,
   "id": "9d3b1423",
   "metadata": {},
   "outputs": [
    {
     "data": {
      "text/plain": [
       "array([21, 22, 23, 24, 25, 26, 27, 28, 29])"
      ]
     },
     "execution_count": 38,
     "metadata": {},
     "output_type": "execute_result"
    }
   ],
   "source": [
    "arr.ravel()          ##### ravel -removes dimention, convert the 2d array in 1d array    ## original array will not be change"
   ]
  },
  {
   "cell_type": "code",
   "execution_count": 39,
   "id": "c43c915b",
   "metadata": {},
   "outputs": [
    {
     "data": {
      "text/plain": [
       "array([[21, 24, 27],\n",
       "       [22, 25, 28],\n",
       "       [23, 26, 29]])"
      ]
     },
     "execution_count": 39,
     "metadata": {},
     "output_type": "execute_result"
    }
   ],
   "source": [
    "arr.transpose()             ## it will convetr array transpose    ## original array will not be change"
   ]
  },
  {
   "cell_type": "code",
   "execution_count": null,
   "id": "0c306b2d",
   "metadata": {},
   "outputs": [],
   "source": []
  },
  {
   "cell_type": "code",
   "execution_count": 41,
   "id": "798b2072",
   "metadata": {},
   "outputs": [
    {
     "name": "stdout",
     "output_type": "stream",
     "text": [
      "[[21 22 23]\n",
      " [24 25 26]\n",
      " [27 28 29]]\n",
      "[[51 52 53]\n",
      " [54 55 56]\n",
      " [57 58 59]]\n"
     ]
    }
   ],
   "source": [
    "#concatenate\n",
    "\n",
    "a=np.arange(21,30).reshape(3,3)                         \n",
    "print(a)\n",
    "b=np.arange(51,60).reshape(3,3)\n",
    "print(b)"
   ]
  },
  {
   "cell_type": "code",
   "execution_count": 46,
   "id": "47e1d63b",
   "metadata": {},
   "outputs": [
    {
     "data": {
      "text/plain": [
       "array([[21, 22, 23],\n",
       "       [24, 25, 26],\n",
       "       [27, 28, 29],\n",
       "       [51, 52, 53],\n",
       "       [54, 55, 56],\n",
       "       [57, 58, 59]])"
      ]
     },
     "execution_count": 46,
     "metadata": {},
     "output_type": "execute_result"
    }
   ],
   "source": [
    "np.concatenate((a,b))          ## defalut"
   ]
  },
  {
   "cell_type": "code",
   "execution_count": 47,
   "id": "422e718b",
   "metadata": {},
   "outputs": [
    {
     "data": {
      "text/plain": [
       "array([[21, 22, 23],\n",
       "       [24, 25, 26],\n",
       "       [27, 28, 29],\n",
       "       [51, 52, 53],\n",
       "       [54, 55, 56],\n",
       "       [57, 58, 59]])"
      ]
     },
     "execution_count": 47,
     "metadata": {},
     "output_type": "execute_result"
    }
   ],
   "source": [
    "np.concatenate((a,b),axis=0)      #row wise"
   ]
  },
  {
   "cell_type": "code",
   "execution_count": 49,
   "id": "39fbbfb5",
   "metadata": {},
   "outputs": [
    {
     "data": {
      "text/plain": [
       "array([[21, 22, 23, 51, 52, 53],\n",
       "       [24, 25, 26, 54, 55, 56],\n",
       "       [27, 28, 29, 57, 58, 59]])"
      ]
     },
     "execution_count": 49,
     "metadata": {},
     "output_type": "execute_result"
    }
   ],
   "source": [
    "np.concatenate((a,b),axis=1)# column wise"
   ]
  },
  {
   "cell_type": "code",
   "execution_count": null,
   "id": "228c4c0e",
   "metadata": {},
   "outputs": [],
   "source": []
  },
  {
   "cell_type": "code",
   "execution_count": 50,
   "id": "c3c2a3ce",
   "metadata": {},
   "outputs": [
    {
     "data": {
      "text/plain": [
       "array([[[21, 22, 23],\n",
       "        [24, 25, 26],\n",
       "        [27, 28, 29]],\n",
       "\n",
       "       [[51, 52, 53],\n",
       "        [54, 55, 56],\n",
       "        [57, 58, 59]]])"
      ]
     },
     "execution_count": 50,
     "metadata": {},
     "output_type": "execute_result"
    }
   ],
   "source": [
    "np.stack((a,b))"
   ]
  },
  {
   "cell_type": "code",
   "execution_count": 51,
   "id": "2d83754a",
   "metadata": {},
   "outputs": [
    {
     "data": {
      "text/plain": [
       "array([[21, 22, 23, 51, 52, 53],\n",
       "       [24, 25, 26, 54, 55, 56],\n",
       "       [27, 28, 29, 57, 58, 59]])"
      ]
     },
     "execution_count": 51,
     "metadata": {},
     "output_type": "execute_result"
    }
   ],
   "source": [
    "np.column_stack((a,b))"
   ]
  },
  {
   "cell_type": "code",
   "execution_count": null,
   "id": "1ecb5577",
   "metadata": {},
   "outputs": [],
   "source": []
  },
  {
   "cell_type": "code",
   "execution_count": 53,
   "id": "1829ab32",
   "metadata": {},
   "outputs": [
    {
     "data": {
      "text/plain": [
       "array([[21, 22, 23, 51, 52, 53],\n",
       "       [24, 25, 26, 54, 55, 56],\n",
       "       [27, 28, 29, 57, 58, 59]])"
      ]
     },
     "execution_count": 53,
     "metadata": {},
     "output_type": "execute_result"
    }
   ],
   "source": [
    "np.hstack((a,b))            ## horizontal stacking"
   ]
  },
  {
   "cell_type": "code",
   "execution_count": 55,
   "id": "1572a2cd",
   "metadata": {},
   "outputs": [
    {
     "data": {
      "text/plain": [
       "array([[21, 22, 23],\n",
       "       [24, 25, 26],\n",
       "       [27, 28, 29],\n",
       "       [51, 52, 53],\n",
       "       [54, 55, 56],\n",
       "       [57, 58, 59]])"
      ]
     },
     "execution_count": 55,
     "metadata": {},
     "output_type": "execute_result"
    }
   ],
   "source": [
    "np.vstack((a,b))         # vertical stacking"
   ]
  },
  {
   "cell_type": "code",
   "execution_count": null,
   "id": "bebc80ed",
   "metadata": {},
   "outputs": [],
   "source": []
  },
  {
   "cell_type": "code",
   "execution_count": null,
   "id": "7d136311",
   "metadata": {},
   "outputs": [],
   "source": [
    "## split"
   ]
  },
  {
   "cell_type": "code",
   "execution_count": 59,
   "id": "1bc94918",
   "metadata": {},
   "outputs": [
    {
     "name": "stdout",
     "output_type": "stream",
     "text": [
      "[0 1 2 3 4 5 6 7 8]\n",
      "[array([0, 1, 2]), array([3, 4, 5]), array([6, 7, 8])]\n"
     ]
    }
   ],
   "source": [
    "x=np.arange(9)\n",
    "print(x)\n",
    "print(np.split(x,3))"
   ]
  },
  {
   "cell_type": "code",
   "execution_count": 62,
   "id": "b49d3ca7",
   "metadata": {},
   "outputs": [
    {
     "name": "stdout",
     "output_type": "stream",
     "text": [
      "[[ 0  1  2  3]\n",
      " [ 4  5  6  7]\n",
      " [ 8  9 10 11]\n",
      " [12 13 14 15]]\n"
     ]
    },
    {
     "data": {
      "text/plain": [
       "[array([[ 0,  1],\n",
       "        [ 4,  5],\n",
       "        [ 8,  9],\n",
       "        [12, 13]]),\n",
       " array([[ 2,  3],\n",
       "        [ 6,  7],\n",
       "        [10, 11],\n",
       "        [14, 15]])]"
      ]
     },
     "execution_count": 62,
     "metadata": {},
     "output_type": "execute_result"
    }
   ],
   "source": [
    "a=np.arange(16).reshape(4,4)                  ## split it horizontaly\n",
    "print(a)\n",
    "np.hsplit(a,2)"
   ]
  },
  {
   "cell_type": "code",
   "execution_count": 63,
   "id": "1607bf34",
   "metadata": {},
   "outputs": [
    {
     "data": {
      "text/plain": [
       "[array([[0, 1, 2, 3],\n",
       "        [4, 5, 6, 7]]),\n",
       " array([[ 8,  9, 10, 11],\n",
       "        [12, 13, 14, 15]])]"
      ]
     },
     "execution_count": 63,
     "metadata": {},
     "output_type": "execute_result"
    }
   ],
   "source": [
    "np.vsplit(a,2)                   ## split it in verticaly"
   ]
  },
  {
   "cell_type": "code",
   "execution_count": null,
   "id": "43752648",
   "metadata": {},
   "outputs": [],
   "source": []
  },
  {
   "cell_type": "code",
   "execution_count": null,
   "id": "81bf0929",
   "metadata": {},
   "outputs": [],
   "source": []
  },
  {
   "cell_type": "code",
   "execution_count": null,
   "id": "8bc139ab",
   "metadata": {},
   "outputs": [],
   "source": []
  },
  {
   "cell_type": "code",
   "execution_count": null,
   "id": "f62c74cb",
   "metadata": {},
   "outputs": [],
   "source": []
  },
  {
   "cell_type": "code",
   "execution_count": null,
   "id": "835c0f19",
   "metadata": {},
   "outputs": [],
   "source": []
  }
 ],
 "metadata": {
  "kernelspec": {
   "display_name": "Python 3 (ipykernel)",
   "language": "python",
   "name": "python3"
  },
  "language_info": {
   "codemirror_mode": {
    "name": "ipython",
    "version": 3
   },
   "file_extension": ".py",
   "mimetype": "text/x-python",
   "name": "python",
   "nbconvert_exporter": "python",
   "pygments_lexer": "ipython3",
   "version": "3.9.12"
  }
 },
 "nbformat": 4,
 "nbformat_minor": 5
}
