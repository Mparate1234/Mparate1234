{
 "cells": [
  {
   "cell_type": "markdown",
   "id": "d5dfe5a4",
   "metadata": {},
   "source": [
    "#                                      28 may"
   ]
  },
  {
   "cell_type": "code",
   "execution_count": null,
   "id": "faba6f29",
   "metadata": {},
   "outputs": [],
   "source": [
    "#indexing \n",
    "#positive\n",
    "#negative"
   ]
  },
  {
   "cell_type": "code",
   "execution_count": 5,
   "id": "17cc0463",
   "metadata": {},
   "outputs": [
    {
     "name": "stdout",
     "output_type": "stream",
     "text": [
      "10\n",
      "5\n",
      "4\n",
      "7\n"
     ]
    }
   ],
   "source": [
    "##numbers \n",
    "a,b,c,d=10,5,4,7       ## multiple assignment\n",
    "print(a)\n",
    "print(b)\n",
    "print(c)\n",
    "print(d)"
   ]
  },
  {
   "cell_type": "code",
   "execution_count": null,
   "id": "9fb04f60",
   "metadata": {},
   "outputs": [],
   "source": []
  },
  {
   "cell_type": "code",
   "execution_count": 2,
   "id": "d1fe9122",
   "metadata": {},
   "outputs": [
    {
     "name": "stdout",
     "output_type": "stream",
     "text": [
      "HAPPY BIRTHDAY\n"
     ]
    },
    {
     "data": {
      "text/plain": [
       "str"
      ]
     },
     "execution_count": 2,
     "metadata": {},
     "output_type": "execute_result"
    }
   ],
   "source": [
    "#string\n",
    "# order of execution\n",
    "#------->>>>>>>\n",
    "a=\"HAPPY BIRTHDAY\"\n",
    "print(a)\n",
    "type(a)"
   ]
  },
  {
   "cell_type": "code",
   "execution_count": 3,
   "id": "f72cc03b",
   "metadata": {},
   "outputs": [
    {
     "data": {
      "text/plain": [
       "'BIRTH'"
      ]
     },
     "execution_count": 3,
     "metadata": {},
     "output_type": "execute_result"
    }
   ],
   "source": [
    "#get birth in possitive indexing\n",
    "\n",
    "a[6:11]"
   ]
  },
  {
   "cell_type": "code",
   "execution_count": 4,
   "id": "2131a07a",
   "metadata": {},
   "outputs": [
    {
     "data": {
      "text/plain": [
       "'BIRTH'"
      ]
     },
     "execution_count": 4,
     "metadata": {},
     "output_type": "execute_result"
    }
   ],
   "source": [
    "#get birth in negative indesing\n",
    "\n",
    "a[-8:-3]"
   ]
  },
  {
   "cell_type": "code",
   "execution_count": 33,
   "id": "fa47e86e",
   "metadata": {},
   "outputs": [
    {
     "data": {
      "text/plain": [
       "'APPY '"
      ]
     },
     "execution_count": 33,
     "metadata": {},
     "output_type": "execute_result"
    }
   ],
   "source": [
    "#GET +VE FOR 'APPY'\n",
    "a[1:6]"
   ]
  },
  {
   "cell_type": "code",
   "execution_count": 32,
   "id": "6bb3ac2d",
   "metadata": {},
   "outputs": [
    {
     "data": {
      "text/plain": [
       "'BIRTH'"
      ]
     },
     "execution_count": 32,
     "metadata": {},
     "output_type": "execute_result"
    }
   ],
   "source": [
    "#mixed indexing\n",
    "a[6:-3]"
   ]
  },
  {
   "cell_type": "code",
   "execution_count": 9,
   "id": "db7f1daa",
   "metadata": {},
   "outputs": [
    {
     "name": "stdout",
     "output_type": "stream",
     "text": [
      "[]\n"
     ]
    },
    {
     "data": {
      "text/plain": [
       "list"
      ]
     },
     "execution_count": 9,
     "metadata": {},
     "output_type": "execute_result"
    }
   ],
   "source": [
    "\n",
    "##list\n",
    "#creat a empty list \n",
    "ls=[]\n",
    "print(ls)\n",
    "type(ls)"
   ]
  },
  {
   "cell_type": "code",
   "execution_count": 44,
   "id": "a7fa35d9",
   "metadata": {},
   "outputs": [
    {
     "data": {
      "text/plain": [
       "list"
      ]
     },
     "execution_count": 44,
     "metadata": {},
     "output_type": "execute_result"
    }
   ],
   "source": [
    "#creat a list\n",
    "ls=[1,2,3,4,5,6,7,8,9,10]\n",
    "print(ls)\n",
    "type(ls)"
   ]
  },
  {
   "cell_type": "code",
   "execution_count": 13,
   "id": "57f0a8db",
   "metadata": {},
   "outputs": [
    {
     "name": "stdout",
     "output_type": "stream",
     "text": [
      "['A', 'B', 'C', 'D', 'E', 'F']\n",
      "['C', 'D', 'E']\n"
     ]
    },
    {
     "data": {
      "text/plain": [
       "'F'"
      ]
     },
     "execution_count": 13,
     "metadata": {},
     "output_type": "execute_result"
    }
   ],
   "source": [
    "#list of alphabets\n",
    "ls=['A','B','C','D','E','F']\n",
    "print(ls)\n",
    "print(ls[2:5])\n",
    "ls[5]"
   ]
  },
  {
   "cell_type": "code",
   "execution_count": 9,
   "id": "9a0b03e6",
   "metadata": {},
   "outputs": [
    {
     "data": {
      "text/plain": [
       "'SANFRANCISCO'"
      ]
     },
     "execution_count": 9,
     "metadata": {},
     "output_type": "execute_result"
    }
   ],
   "source": [
    "ls=['A','B','SANFRANCISCO']\n",
    "ls[2]\n"
   ]
  },
  {
   "cell_type": "code",
   "execution_count": 10,
   "id": "002c3c6a",
   "metadata": {},
   "outputs": [
    {
     "name": "stdout",
     "output_type": "stream",
     "text": [
      "AMIL\n"
     ]
    },
    {
     "data": {
      "text/plain": [
       "6"
      ]
     },
     "execution_count": 10,
     "metadata": {},
     "output_type": "execute_result"
    }
   ],
   "source": [
    "ls=['A','B','FAMILY']\n",
    "print(ls [2][1:5])\n",
    "len(ls[2])\n"
   ]
  },
  {
   "cell_type": "code",
   "execution_count": null,
   "id": "532a358d",
   "metadata": {},
   "outputs": [],
   "source": []
  },
  {
   "cell_type": "code",
   "execution_count": 13,
   "id": "3b261286",
   "metadata": {},
   "outputs": [
    {
     "data": {
      "text/plain": [
       "['A', 'manish', 'FAMILY']"
      ]
     },
     "execution_count": 13,
     "metadata": {},
     "output_type": "execute_result"
    }
   ],
   "source": [
    "ls=['A','B','FAMILY']\n",
    "ls[1]=\"manish\"              # list is mutable , can change the existing elements\n",
    "ls"
   ]
  },
  {
   "cell_type": "code",
   "execution_count": null,
   "id": "1c4db07b",
   "metadata": {},
   "outputs": [],
   "source": []
  },
  {
   "cell_type": "code",
   "execution_count": null,
   "id": "9691b88a",
   "metadata": {},
   "outputs": [],
   "source": []
  },
  {
   "cell_type": "code",
   "execution_count": 14,
   "id": "24aae2df",
   "metadata": {},
   "outputs": [
    {
     "name": "stdout",
     "output_type": "stream",
     "text": [
      "<class 'tuple'>\n",
      "(1, 2, 3, 4)\n"
     ]
    }
   ],
   "source": [
    "#tuple\n",
    "a=(1,2,3,4)                    ## tuple is immutable\n",
    "print(type(a))\n",
    "\n",
    "print(a)"
   ]
  },
  {
   "cell_type": "code",
   "execution_count": null,
   "id": "fb4dd8b4",
   "metadata": {},
   "outputs": [],
   "source": []
  },
  {
   "cell_type": "code",
   "execution_count": 14,
   "id": "33eb2f0f",
   "metadata": {},
   "outputs": [
    {
     "data": {
      "text/plain": [
       "set"
      ]
     },
     "execution_count": 14,
     "metadata": {},
     "output_type": "execute_result"
    }
   ],
   "source": [
    "#set                           ## \n",
    "a={1,2,2,3,4,5}\n",
    "type(a)\n"
   ]
  },
  {
   "cell_type": "code",
   "execution_count": null,
   "id": "a9b2a965",
   "metadata": {},
   "outputs": [],
   "source": []
  },
  {
   "cell_type": "code",
   "execution_count": 18,
   "id": "130313fe",
   "metadata": {},
   "outputs": [
    {
     "name": "stdout",
     "output_type": "stream",
     "text": [
      "dict_keys(['a', 'b', 'c'])\n",
      "dict_values([1, 2, 3])\n"
     ]
    }
   ],
   "source": [
    "a={'a':1,'b':2,'c':3}\n",
    "print(a.keys())\n",
    "print(a.values())"
   ]
  },
  {
   "cell_type": "code",
   "execution_count": null,
   "id": "baab1027",
   "metadata": {},
   "outputs": [],
   "source": []
  },
  {
   "cell_type": "code",
   "execution_count": null,
   "id": "8e9b064a",
   "metadata": {},
   "outputs": [],
   "source": [
    "##########list operation"
   ]
  },
  {
   "cell_type": "code",
   "execution_count": 112,
   "id": "b61035d1",
   "metadata": {},
   "outputs": [
    {
     "data": {
      "text/plain": [
       "0"
      ]
     },
     "execution_count": 112,
     "metadata": {},
     "output_type": "execute_result"
    }
   ],
   "source": [
    "#length of a list \n",
    "ls=[]\n",
    "len(ls)"
   ]
  },
  {
   "cell_type": "code",
   "execution_count": 119,
   "id": "97fc558a",
   "metadata": {},
   "outputs": [
    {
     "name": "stdout",
     "output_type": "stream",
     "text": [
      "9\n"
     ]
    },
    {
     "data": {
      "text/plain": [
       "2"
      ]
     },
     "execution_count": 119,
     "metadata": {},
     "output_type": "execute_result"
    }
   ],
   "source": [
    "ls=[1,2,3,4,5,6,1,5,4]                         ## list are mutable\n",
    "print(len(ls))\n",
    "ls.count(1)        ### how many times it is "
   ]
  },
  {
   "cell_type": "code",
   "execution_count": 23,
   "id": "e9f8dc3d",
   "metadata": {},
   "outputs": [
    {
     "name": "stdout",
     "output_type": "stream",
     "text": [
      "[1]\n",
      "[1, 2]\n",
      "[1, 2, 3]\n"
     ]
    }
   ],
   "source": [
    "#adding elements to the list using append\n",
    "ls=[]\n",
    "ls.append(1)\n",
    "print(ls)\n",
    "\n",
    "ls.append(2)\n",
    "print(ls)\n",
    "\n",
    "ls.append(3)\n",
    "print(ls)\n",
    "\n"
   ]
  },
  {
   "cell_type": "code",
   "execution_count": 24,
   "id": "deabcbd3",
   "metadata": {},
   "outputs": [
    {
     "name": "stdout",
     "output_type": "stream",
     "text": [
      "['a']\n",
      "['a', 'b']\n",
      "['a', 'b', 'c']\n",
      "['a', 'b', 'c', [1, 2, 3, 4]]\n",
      "['a', 'b', 'c', [1, 2, 3, 4], {1, 2, 3, 4}]\n",
      "['a', 'b', 'c', [1, 2, 3, 4], {1, 2, 3, 4}, {'a': 1, 'b': 2, 'c': 3}]\n"
     ]
    }
   ],
   "source": [
    "\n",
    "ls=[]\n",
    "ls.append('a')\n",
    "print(ls)\n",
    "ls.append('b')\n",
    "print(ls)\n",
    "ls.append('c')               ##this will add the elements at the end of list\n",
    "print(ls)\n",
    "\n",
    "ls.append([1,2,3,4])\n",
    "print(ls)                            \n",
    "\n",
    "ls.append({1,2,3,4})\n",
    "print(ls)\n",
    "                                                      ### append acn add list,set,tuple,dictionary in list\n",
    "ls.append({'a':1,'b':2,'c':3})\n",
    "print(ls)"
   ]
  },
  {
   "cell_type": "code",
   "execution_count": null,
   "id": "34105f8a",
   "metadata": {},
   "outputs": [],
   "source": [
    "###    insert ; will add element in any place -middel,end"
   ]
  },
  {
   "cell_type": "code",
   "execution_count": 1,
   "id": "19e2d2b4",
   "metadata": {},
   "outputs": [
    {
     "name": "stdout",
     "output_type": "stream",
     "text": [
      "[1, 2, 5, 'manish', 9, 4, 5]\n"
     ]
    }
   ],
   "source": [
    "ls=[1,2,5,9,4,5]\n",
    "#ls.insert(position,value)\n",
    "ls.insert(3,'manish')          ## add element in give position\n",
    "print(ls)\n"
   ]
  },
  {
   "cell_type": "code",
   "execution_count": null,
   "id": "e8519b2a",
   "metadata": {},
   "outputs": [],
   "source": [
    "###extend--"
   ]
  },
  {
   "cell_type": "code",
   "execution_count": 26,
   "id": "afe9bd79",
   "metadata": {},
   "outputs": [
    {
     "name": "stdout",
     "output_type": "stream",
     "text": [
      "[1, 2, 3, 4, 5, 6, 10, 20, 30, 40, 50, 60]\n"
     ]
    }
   ],
   "source": [
    "ls=[1,2,3,4,5,6]\n",
    "ls.extend([10,20,30,40,50,60])           ##it will add multiple elements at the end\n",
    "print(ls)"
   ]
  },
  {
   "cell_type": "code",
   "execution_count": null,
   "id": "73c8dbbd",
   "metadata": {},
   "outputs": [],
   "source": []
  },
  {
   "cell_type": "code",
   "execution_count": 139,
   "id": "ac281e18",
   "metadata": {},
   "outputs": [
    {
     "name": "stdout",
     "output_type": "stream",
     "text": [
      "['a', 'b', 'c', {1, 2, 3, 4}]\n",
      "['b', 'c', {1, 2, 3, 4}]\n"
     ]
    }
   ],
   "source": [
    "###remove\n",
    "ls=['a', 'b', 'c', [1, 2, 3, 4], {1, 2, 3, 4}]\n",
    "ls.remove([1, 2, 3, 4])\n",
    "print(ls)                                           ####removes given element\n",
    "ls.remove('a')\n",
    "print(ls)\n"
   ]
  },
  {
   "cell_type": "code",
   "execution_count": 26,
   "id": "ce3a2c6c",
   "metadata": {},
   "outputs": [
    {
     "name": "stdout",
     "output_type": "stream",
     "text": [
      "['a', 'b', 'c', 'd', 'r', [1, 2, 3, 4]]\n",
      "b\n",
      "['a', 'c', 'd', 'r', [1, 2, 3, 4]]\n",
      "['a', 'c', 'd', [1, 2, 3, 4]]\n"
     ]
    }
   ],
   "source": [
    "ls=['a', 'b', 'c','d','r', [1, 2, 3, 4], {1, 2, 3, 4}]\n",
    "ls.pop()                                            ###will remove last element\n",
    "print(ls)\n",
    "\n",
    "print(ls.pop(1))                  ### all will print removing element and then \n",
    "print(ls)                                      ######will remove the mentoned position element\n",
    "\n",
    "ls.pop(-2)\n",
    "print(ls)"
   ]
  },
  {
   "cell_type": "code",
   "execution_count": null,
   "id": "9166b704",
   "metadata": {},
   "outputs": [],
   "source": []
  },
  {
   "cell_type": "code",
   "execution_count": 147,
   "id": "6c46c47c",
   "metadata": {},
   "outputs": [
    {
     "name": "stdout",
     "output_type": "stream",
     "text": [
      "[10, 20, 60, 70, 80, 90]\n",
      "None\n"
     ]
    }
   ],
   "source": [
    "####delet -   delet multiple elements at once\n",
    "ls=[10,20,30,40,50,60,70,80,90]\n",
    "del ls[2:5]                    ### using this can remove multiple elemnts from list\n",
    "print(ls)\n",
    "print(ls.clear())               #### will clear all the elements"
   ]
  },
  {
   "cell_type": "code",
   "execution_count": 21,
   "id": "47c2832b",
   "metadata": {},
   "outputs": [
    {
     "name": "stdout",
     "output_type": "stream",
     "text": [
      "3\n",
      "9\n",
      "5\n"
     ]
    }
   ],
   "source": [
    "ls=[10,20,30,40,50,10,10,30,60,70,80,90]\n",
    "print(ls.count(10))        ## gives repetation of element\n",
    "print(ls.index(70))             ### gives position of element\n",
    "print(ls.index(10,2))        ### gives position of element"
   ]
  },
  {
   "cell_type": "code",
   "execution_count": 25,
   "id": "48432a36",
   "metadata": {},
   "outputs": [
    {
     "data": {
      "text/plain": [
       "[]"
      ]
     },
     "execution_count": 25,
     "metadata": {},
     "output_type": "execute_result"
    }
   ],
   "source": [
    "ls=[10,20,30,40,50,60,70,80,90]\n",
    "ls.clear()                            ## remove all the elements and return empty list\n",
    "ls"
   ]
  },
  {
   "cell_type": "code",
   "execution_count": 29,
   "id": "4ea2570a",
   "metadata": {},
   "outputs": [
    {
     "name": "stdout",
     "output_type": "stream",
     "text": [
      "[10, 10, 10, 20, 30, 30, 40, 50, 60, 70, 80, 90]\n",
      "[90, 80, 70, 60, 50, 40, 30, 30, 20, 10, 10, 10]\n"
     ]
    }
   ],
   "source": [
    "ls=[10,20,30,40,50,10,10,30,60,70,80,90]\n",
    "ls.sort()     ## arrenge in assending\n",
    "print(ls)\n",
    "ls.reverse()          ## reverse the arrangement\n",
    "print(ls)"
   ]
  },
  {
   "cell_type": "code",
   "execution_count": 36,
   "id": "ebe97db7",
   "metadata": {},
   "outputs": [
    {
     "name": "stdout",
     "output_type": "stream",
     "text": [
      "[1, 8, 27, 64, 125, 216, 343, 512, 729]\n"
     ]
    }
   ],
   "source": [
    "cube=[]\n",
    "for i in range(1,10):\n",
    "    cube.append(i**3)\n",
    "print(cube)"
   ]
  },
  {
   "cell_type": "code",
   "execution_count": null,
   "id": "f5afeab5",
   "metadata": {},
   "outputs": [],
   "source": []
  }
 ],
 "metadata": {
  "kernelspec": {
   "display_name": "Python 3 (ipykernel)",
   "language": "python",
   "name": "python3"
  },
  "language_info": {
   "codemirror_mode": {
    "name": "ipython",
    "version": 3
   },
   "file_extension": ".py",
   "mimetype": "text/x-python",
   "name": "python",
   "nbconvert_exporter": "python",
   "pygments_lexer": "ipython3",
   "version": "3.9.12"
  }
 },
 "nbformat": 4,
 "nbformat_minor": 5
}
