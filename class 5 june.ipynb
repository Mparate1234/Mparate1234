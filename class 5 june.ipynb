{
 "cells": [
  {
   "cell_type": "markdown",
   "id": "d5603fc7",
   "metadata": {},
   "source": [
    "#                                        5 june"
   ]
  },
  {
   "cell_type": "code",
   "execution_count": 2,
   "id": "b2393d8a",
   "metadata": {},
   "outputs": [
    {
     "name": "stdout",
     "output_type": "stream",
     "text": [
      "Requirement already satisfied: numpy in c:\\users\\manish\\anaconda3\\lib\\site-packages (1.21.5)\n"
     ]
    }
   ],
   "source": [
    "##  numpy\n",
    "!pip install numpy"
   ]
  },
  {
   "cell_type": "code",
   "execution_count": 3,
   "id": "f1f8e06d",
   "metadata": {},
   "outputs": [],
   "source": [
    "import numpy as np"
   ]
  },
  {
   "cell_type": "code",
   "execution_count": 5,
   "id": "0fabecbf",
   "metadata": {},
   "outputs": [
    {
     "data": {
      "text/plain": [
       "608"
      ]
     },
     "execution_count": 5,
     "metadata": {},
     "output_type": "execute_result"
    }
   ],
   "source": [
    "len(dir(np))"
   ]
  },
  {
   "cell_type": "code",
   "execution_count": null,
   "id": "54db0fa0",
   "metadata": {},
   "outputs": [],
   "source": []
  },
  {
   "cell_type": "code",
   "execution_count": 6,
   "id": "0107a61a",
   "metadata": {},
   "outputs": [
    {
     "name": "stdout",
     "output_type": "stream",
     "text": [
      "[1 2 3 4 5 6 7]\n"
     ]
    },
    {
     "data": {
      "text/plain": [
       "numpy.ndarray"
      ]
     },
     "execution_count": 6,
     "metadata": {},
     "output_type": "execute_result"
    }
   ],
   "source": [
    "## creat a 'N-Dimentional array'\n",
    "\n",
    "import numpy as np\n",
    "\n",
    "a=[1,2,3,4,5,6,7]\n",
    "na = np.array(a)\n",
    "print(na)\n",
    "type(na)"
   ]
  },
  {
   "cell_type": "code",
   "execution_count": 7,
   "id": "945925ee",
   "metadata": {},
   "outputs": [
    {
     "name": "stdout",
     "output_type": "stream",
     "text": [
      "[1 2 3 4 5 6 7]\n"
     ]
    },
    {
     "data": {
      "text/plain": [
       "numpy.ndarray"
      ]
     },
     "execution_count": 7,
     "metadata": {},
     "output_type": "execute_result"
    }
   ],
   "source": [
    "a=(1,2,3,4,5,6,7)\n",
    "na = np.array(a)            # numpy array output is in list always\n",
    "print(na)\n",
    "type(na)"
   ]
  },
  {
   "cell_type": "code",
   "execution_count": null,
   "id": "f458c061",
   "metadata": {},
   "outputs": [],
   "source": []
  },
  {
   "cell_type": "code",
   "execution_count": 7,
   "id": "2cd14835",
   "metadata": {},
   "outputs": [
    {
     "name": "stdout",
     "output_type": "stream",
     "text": [
      "[1 2 3 4 5 6 7]\n",
      "<class 'numpy.ndarray'>\n",
      "------attributes-----\n",
      "(7,)\n",
      "7\n",
      "1\n",
      "int32\n",
      "4\n"
     ]
    }
   ],
   "source": [
    "## attributes of ndarray\n",
    "a=(1,2,3,4,5,6,7)\n",
    "n = np.array(a)\n",
    "print(n)\n",
    "print(type(n))\n",
    "print('------attributes-----')\n",
    "print(n.shape)                  #gives no of (rows,column)\n",
    "print(n.size)                   #no of elements\n",
    "print(n.ndim)                   # gives dimensions\n",
    "print(n.dtype)                  #deta type int ,float\n",
    "print(n.itemsize)               # for storing 10 how many bytes are using"
   ]
  },
  {
   "cell_type": "code",
   "execution_count": null,
   "id": "94a9bdba",
   "metadata": {},
   "outputs": [],
   "source": []
  },
  {
   "cell_type": "code",
   "execution_count": 17,
   "id": "2387a6ca",
   "metadata": {},
   "outputs": [
    {
     "name": "stdout",
     "output_type": "stream",
     "text": [
      "['1' '10.5' '52' 'manish']\n",
      "------attributes-----\n",
      "(4,)\n",
      "4\n",
      "1\n",
      "<U32\n",
      "128\n"
     ]
    }
   ],
   "source": [
    "st=[1,10.5,52,'manish']\n",
    "p=np.array(st)\n",
    "print(p)\n",
    "print('------attributes-----')\n",
    "print(p.shape)                  \n",
    "print(p.size)                  \n",
    "print(p.ndim)                           ### 1 d array\n",
    "print(p.dtype)                  \n",
    "print(p.itemsize)               "
   ]
  },
  {
   "cell_type": "code",
   "execution_count": 24,
   "id": "f094c471",
   "metadata": {},
   "outputs": [
    {
     "name": "stdout",
     "output_type": "stream",
     "text": [
      "[[1 2 3]\n",
      " [5 4 8]\n",
      " [5 6 5]]\n",
      "------attributes-----\n",
      "(3, 3)\n",
      "9\n",
      "2\n",
      "int32\n",
      "4\n"
     ]
    }
   ],
   "source": [
    "st=[[1,2,3],[5,4,8],[5,6,5]]\n",
    "p=np.array(st)\n",
    "print(p)\n",
    "print('------attributes-----')\n",
    "print(p.shape)                  \n",
    "print(p.size)                  \n",
    "print(p.ndim)                           ##2d array       \n",
    "print(p.dtype)                  \n",
    "print(p.itemsize)   "
   ]
  },
  {
   "cell_type": "code",
   "execution_count": 26,
   "id": "9a600bee",
   "metadata": {},
   "outputs": [
    {
     "data": {
      "text/plain": [
       "array([[0., 0., 0., 0.],\n",
       "       [0., 0., 0., 0.],\n",
       "       [0., 0., 0., 0.],\n",
       "       [0., 0., 0., 0.]])"
      ]
     },
     "execution_count": 26,
     "metadata": {},
     "output_type": "execute_result"
    }
   ],
   "source": [
    "np.zeros((4,4))"
   ]
  },
  {
   "cell_type": "code",
   "execution_count": 29,
   "id": "b05d4530",
   "metadata": {},
   "outputs": [
    {
     "data": {
      "text/plain": [
       "array([[1., 1., 1., 1.],\n",
       "       [1., 1., 1., 1.],\n",
       "       [1., 1., 1., 1.],\n",
       "       [1., 1., 1., 1.]])"
      ]
     },
     "execution_count": 29,
     "metadata": {},
     "output_type": "execute_result"
    }
   ],
   "source": [
    "np.ones((4,4))"
   ]
  },
  {
   "cell_type": "code",
   "execution_count": 31,
   "id": "1a3f545d",
   "metadata": {},
   "outputs": [
    {
     "data": {
      "text/plain": [
       "array([ 0,  2,  4,  6,  8, 10, 12, 14, 16, 18])"
      ]
     },
     "execution_count": 31,
     "metadata": {},
     "output_type": "execute_result"
    }
   ],
   "source": [
    "np.arange(0,20,2)"
   ]
  },
  {
   "cell_type": "code",
   "execution_count": 34,
   "id": "d33d5667",
   "metadata": {},
   "outputs": [
    {
     "data": {
      "text/plain": [
       "array([ 0., 10., 20.])"
      ]
     },
     "execution_count": 34,
     "metadata": {},
     "output_type": "execute_result"
    }
   ],
   "source": [
    "np.linspace(0,20,3)             #bet 0,20    3- means 3 nos of equal space "
   ]
  },
  {
   "cell_type": "code",
   "execution_count": null,
   "id": "155f357a",
   "metadata": {},
   "outputs": [],
   "source": []
  },
  {
   "cell_type": "code",
   "execution_count": 39,
   "id": "d64c2ba5",
   "metadata": {},
   "outputs": [
    {
     "name": "stdout",
     "output_type": "stream",
     "text": [
      "1964372519696\n",
      "1964372518448\n",
      "1964372519696\n",
      "1964372520368\n",
      "[1 2 3 4 5]\n",
      "[1 2 3 4 5]\n",
      "[1 2 3 4 5]\n",
      "[1 2 3 4 5]\n"
     ]
    }
   ],
   "source": [
    "\n",
    "## copy\n",
    "\n",
    "\n",
    "a=np.array([1,2,3,4,5])\n",
    "print(id(a))\n",
    "b=np.array([1,2,3,4,5])\n",
    "print(id(b))\n",
    "c=a                                                                 ### take a look again\n",
    "d=a.copy()\n",
    "print(id(c))\n",
    "print(id(d))\n",
    "print(a)\n",
    "print(b)\n",
    "print(c)\n",
    "print(d)"
   ]
  },
  {
   "cell_type": "code",
   "execution_count": null,
   "id": "89a9a46b",
   "metadata": {},
   "outputs": [],
   "source": []
  },
  {
   "cell_type": "code",
   "execution_count": 40,
   "id": "852617b7",
   "metadata": {},
   "outputs": [
    {
     "name": "stdout",
     "output_type": "stream",
     "text": [
      "[11 22 33 44]\n",
      "[ 9 18 27 36]\n",
      "[ 10  40  90 160]\n",
      "[10. 10. 10. 10.]\n"
     ]
    }
   ],
   "source": [
    "### arithmatic operation\n",
    "a=np.array([10,20,30,40])\n",
    "b=np.array([1,2,3,4])\n",
    "print(a+b)\n",
    "print(a-b)\n",
    "print(a*b)\n",
    "print(a/b)\n",
    "\n"
   ]
  },
  {
   "cell_type": "code",
   "execution_count": 53,
   "id": "5f71c934",
   "metadata": {},
   "outputs": [
    {
     "name": "stdout",
     "output_type": "stream",
     "text": [
      "[[ 1  2  3]\n",
      " [ 4  5  6]\n",
      " [ 7  8  9]\n",
      " [10 11 12]]\n",
      "[ 1  2  3  4  5  6  7  8  9 10 11 12]\n",
      "None\n",
      "[[ 1  2  3]\n",
      " [ 4  5  6]\n",
      " [ 7  8  9]\n",
      " [10 11 12]]\n",
      "(4, 3)\n"
     ]
    }
   ],
   "source": [
    "## reshape and resize\n",
    "\n",
    "a=np.array([1,2,3,4,5,6,7,8,9,10,11,12])\n",
    "print(a.reshape(4,3))                   # change shape but original will be remails same\n",
    "print(a)\n",
    "\n",
    "print(a.resize(4,3))                  # it will change the original shape\n",
    "print(a)\n",
    "print(a.shape)"
   ]
  },
  {
   "cell_type": "code",
   "execution_count": 11,
   "id": "3f360ec3",
   "metadata": {},
   "outputs": [
    {
     "name": "stdout",
     "output_type": "stream",
     "text": [
      "[[ 5  7  8]\n",
      " [ 6 13  4]\n",
      " [ 8 15 32]]\n",
      "[[1 2 3]\n",
      " [4 5 6]\n",
      " [7 8 9]]\n",
      "[[  5  14  24]\n",
      " [ 24  65  24]\n",
      " [ 56 120 288]]\n"
     ]
    }
   ],
   "source": [
    "## 2 d array multiplication\n",
    "\n",
    "a=np.array([5,7,8,6,13,4,8,15,32])\n",
    "b=np.array([1,2,3,4,5,6,7,8,9])\n",
    "a.resize(3,3)\n",
    "print(a)\n",
    "b.resize(3,3)\n",
    "print(b)\n",
    "print(a*b)"
   ]
  },
  {
   "cell_type": "code",
   "execution_count": null,
   "id": "c329c2aa",
   "metadata": {},
   "outputs": [],
   "source": [
    "\n"
   ]
  },
  {
   "cell_type": "code",
   "execution_count": null,
   "id": "471f63a5",
   "metadata": {},
   "outputs": [],
   "source": [
    "\n"
   ]
  }
 ],
 "metadata": {
  "kernelspec": {
   "display_name": "Python 3 (ipykernel)",
   "language": "python",
   "name": "python3"
  },
  "language_info": {
   "codemirror_mode": {
    "name": "ipython",
    "version": 3
   },
   "file_extension": ".py",
   "mimetype": "text/x-python",
   "name": "python",
   "nbconvert_exporter": "python",
   "pygments_lexer": "ipython3",
   "version": "3.9.12"
  }
 },
 "nbformat": 4,
 "nbformat_minor": 5
}
