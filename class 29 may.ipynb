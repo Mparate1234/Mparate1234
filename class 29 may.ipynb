{
 "cells": [
  {
   "cell_type": "markdown",
   "id": "3f25a7a3",
   "metadata": {},
   "source": [
    "#                                     29 may\n"
   ]
  },
  {
   "cell_type": "code",
   "execution_count": 23,
   "id": "0d0d2f3b",
   "metadata": {},
   "outputs": [
    {
     "data": {
      "text/plain": [
       "{'a', 'b', 'c'}"
      ]
     },
     "execution_count": 23,
     "metadata": {},
     "output_type": "execute_result"
    }
   ],
   "source": [
    "## set\n",
    "## mutebility of set\n",
    "##uniqueness\n",
    "st={'a','b','c','b'}                            ## no duplicate\n",
    "st"
   ]
  },
  {
   "cell_type": "code",
   "execution_count": 1,
   "id": "32651f1e",
   "metadata": {},
   "outputs": [
    {
     "name": "stdout",
     "output_type": "stream",
     "text": [
      "{'d', 'b', 'a', 'c'}\n",
      "{'d', 'india', 'b', 'a', 'c'}\n",
      "{'d', 'india', 'b', 'a', 'c', 'i', 'n'}\n",
      "{'d', 'india', 'b', 'c', 'i', 'n'}\n"
     ]
    }
   ],
   "source": [
    "## adding of elements in set\n",
    "st={'a','b','c','d'}\n",
    "print(st)\n",
    "\n",
    "st.add('india')\n",
    "print(st)\n",
    "\n",
    "st.update('indian')                # in this only 'n' will get add cause 'india' is allready there\n",
    "print(st)\n",
    "\n",
    "st.remove('a')\n",
    "print(st)"
   ]
  },
  {
   "cell_type": "code",
   "execution_count": 13,
   "id": "ae0aef25",
   "metadata": {},
   "outputs": [
    {
     "name": "stdout",
     "output_type": "stream",
     "text": [
      "<class 'set'>\n",
      "<class 'frozenset'>\n"
     ]
    }
   ],
   "source": [
    "ls={1,2,3,4,5,6}                                            ## normal set\n",
    "print(type(ls))\n",
    "\n",
    "stt=frozenset(ls)                                                ## frozen set\n",
    "print(type(stt))"
   ]
  },
  {
   "cell_type": "code",
   "execution_count": 14,
   "id": "e67cd84d",
   "metadata": {},
   "outputs": [
    {
     "ename": "AttributeError",
     "evalue": "'frozenset' object has no attribute 'add'",
     "output_type": "error",
     "traceback": [
      "\u001b[1;31m---------------------------------------------------------------------------\u001b[0m",
      "\u001b[1;31mAttributeError\u001b[0m                            Traceback (most recent call last)",
      "Input \u001b[1;32mIn [14]\u001b[0m, in \u001b[0;36m<cell line: 2>\u001b[1;34m()\u001b[0m\n\u001b[0;32m      1\u001b[0m \u001b[38;5;66;03m## no adding element to frozen set\u001b[39;00m\n\u001b[1;32m----> 2\u001b[0m \u001b[43mstt\u001b[49m\u001b[38;5;241;43m.\u001b[39;49m\u001b[43madd\u001b[49m(\u001b[38;5;241m100\u001b[39m)\n",
      "\u001b[1;31mAttributeError\u001b[0m: 'frozenset' object has no attribute 'add'"
     ]
    }
   ],
   "source": [
    "## no adding element to frozen set\n",
    "\n",
    "stt.add(100) "
   ]
  },
  {
   "cell_type": "code",
   "execution_count": 15,
   "id": "bb712b29",
   "metadata": {},
   "outputs": [
    {
     "ename": "AttributeError",
     "evalue": "'frozenset' object has no attribute 'remove'",
     "output_type": "error",
     "traceback": [
      "\u001b[1;31m---------------------------------------------------------------------------\u001b[0m",
      "\u001b[1;31mAttributeError\u001b[0m                            Traceback (most recent call last)",
      "Input \u001b[1;32mIn [15]\u001b[0m, in \u001b[0;36m<cell line: 2>\u001b[1;34m()\u001b[0m\n\u001b[0;32m      1\u001b[0m \u001b[38;5;66;03m## no remove element fromm a set\u001b[39;00m\n\u001b[1;32m----> 2\u001b[0m \u001b[43mstt\u001b[49m\u001b[38;5;241;43m.\u001b[39;49m\u001b[43mremove\u001b[49m(\u001b[38;5;241m3\u001b[39m)\n",
      "\u001b[1;31mAttributeError\u001b[0m: 'frozenset' object has no attribute 'remove'"
     ]
    }
   ],
   "source": [
    "## no remove element fromm a set\n",
    "stt.remove(3)\n"
   ]
  },
  {
   "cell_type": "code",
   "execution_count": 4,
   "id": "4696d665",
   "metadata": {},
   "outputs": [
    {
     "name": "stdout",
     "output_type": "stream",
     "text": [
      "{'C', 1, 2, 3, 'B', 'b', 'a', 'A', 'INDIA'}\n",
      "{'C', 1, 2, 3, 'B', 'b', 'a', 'A'}\n",
      "{'C', 1, 2, 3, 'MANISH', 'B', 'b', 'a', 'A'}\n"
     ]
    }
   ],
   "source": [
    "## Replace\n",
    "\n",
    "ls={1,2,3,'A','B','C','INDIA','a','b'}\n",
    "print(ls) \n",
    "\n",
    "#ls[3]                   ## you cant fetch  the element because its order is not fix in set\n",
    "\n",
    "ls.remove('INDIA')    \n",
    "print(ls)  \n",
    "ls.add('MANISH')  # insted you can do this\n",
    "print(ls)"
   ]
  },
  {
   "cell_type": "code",
   "execution_count": 2,
   "id": "350a1a7a",
   "metadata": {},
   "outputs": [
    {
     "name": "stdout",
     "output_type": "stream",
     "text": [
      "Union : {0, 1, 2, 3, 4, 5, 6, 8}\n",
      "Intersection : {2, 4}\n",
      "Difference : {0, 8, 6}\n",
      "Symmetric difference : {0, 1, 3, 5, 6, 8}\n"
     ]
    }
   ],
   "source": [
    "\n",
    "A = {0, 2, 4, 6, 8};\n",
    "B = {1, 2, 3, 4, 5};\n",
    "  \n",
    "# union\n",
    "print(\"Union :\", A | B)\n",
    "  \n",
    "# intersection\n",
    "print(\"Intersection :\", A & B)\n",
    "  \n",
    "# difference\n",
    "print(\"Difference :\", A - B)\n",
    "  \n",
    "# symmetric difference\n",
    "print(\"Symmetric difference :\", A ^ B)"
   ]
  },
  {
   "cell_type": "code",
   "execution_count": null,
   "id": "cec108d8",
   "metadata": {},
   "outputs": [],
   "source": []
  },
  {
   "cell_type": "code",
   "execution_count": null,
   "id": "8c7d9c98",
   "metadata": {},
   "outputs": [],
   "source": []
  },
  {
   "cell_type": "code",
   "execution_count": null,
   "id": "271dcece",
   "metadata": {},
   "outputs": [],
   "source": []
  },
  {
   "cell_type": "code",
   "execution_count": 17,
   "id": "61ff0080",
   "metadata": {},
   "outputs": [],
   "source": [
    "#control flow and functions in python"
   ]
  },
  {
   "cell_type": "code",
   "execution_count": 18,
   "id": "89fc1d71",
   "metadata": {},
   "outputs": [],
   "source": [
    "#conditional: if ,else, elif\n",
    "#loops: for, while,break, continue,pass\n",
    "#"
   ]
  },
  {
   "cell_type": "code",
   "execution_count": 7,
   "id": "4defab4e",
   "metadata": {},
   "outputs": [
    {
     "name": "stdout",
     "output_type": "stream",
     "text": [
      "value of x is 10\n"
     ]
    }
   ],
   "source": [
    "# if and else\n",
    "x=10\n",
    "if x==10:\n",
    "    print('value of x is 10')\n",
    "else:\n",
    "    print(' value of x is not 10')\n",
    "    "
   ]
  },
  {
   "cell_type": "code",
   "execution_count": 20,
   "id": "eb75c6a5",
   "metadata": {},
   "outputs": [
    {
     "name": "stdout",
     "output_type": "stream",
     "text": [
      " value of x is not 10\n"
     ]
    }
   ],
   "source": [
    "x=9\n",
    "if x==10:\n",
    "    print('value of x is 10')\n",
    "else:\n",
    "    print(' value of x is not 10')\n"
   ]
  },
  {
   "cell_type": "code",
   "execution_count": null,
   "id": "3c7efbc0",
   "metadata": {},
   "outputs": [],
   "source": []
  },
  {
   "cell_type": "code",
   "execution_count": 10,
   "id": "a414d9a5",
   "metadata": {},
   "outputs": [
    {
     "name": "stdout",
     "output_type": "stream",
     "text": [
      "x is smaller than 10\n"
     ]
    }
   ],
   "source": [
    "# if , else, elif\n",
    "\n",
    "x=5\n",
    "if x > 10:\n",
    "    print('x is greter than 10')\n",
    "elif x < 10:\n",
    "    print ('x is smaller than 10')\n",
    "else:\n",
    "    print('x is equal to 10')"
   ]
  },
  {
   "cell_type": "code",
   "execution_count": null,
   "id": "7fc2d1be",
   "metadata": {},
   "outputs": [],
   "source": []
  },
  {
   "cell_type": "code",
   "execution_count": 11,
   "id": "a01594f9",
   "metadata": {},
   "outputs": [
    {
     "name": "stdout",
     "output_type": "stream",
     "text": [
      "x is odd\n"
     ]
    }
   ],
   "source": [
    "# even or odd using if else \n",
    "x=25\n",
    "if x%2==0:\n",
    "    print(\"x is even\")\n",
    "else:\n",
    "    print(\"x is odd\")"
   ]
  },
  {
   "cell_type": "code",
   "execution_count": null,
   "id": "5538ffb5",
   "metadata": {},
   "outputs": [],
   "source": []
  },
  {
   "cell_type": "code",
   "execution_count": null,
   "id": "a4947376",
   "metadata": {},
   "outputs": [],
   "source": []
  },
  {
   "cell_type": "code",
   "execution_count": null,
   "id": "8eaef074",
   "metadata": {},
   "outputs": [],
   "source": []
  },
  {
   "cell_type": "code",
   "execution_count": null,
   "id": "1af36549",
   "metadata": {},
   "outputs": [],
   "source": []
  },
  {
   "cell_type": "code",
   "execution_count": null,
   "id": "7b5c3bd5",
   "metadata": {},
   "outputs": [],
   "source": []
  },
  {
   "cell_type": "code",
   "execution_count": null,
   "id": "cb45751d",
   "metadata": {},
   "outputs": [],
   "source": []
  }
 ],
 "metadata": {
  "kernelspec": {
   "display_name": "Python 3 (ipykernel)",
   "language": "python",
   "name": "python3"
  },
  "language_info": {
   "codemirror_mode": {
    "name": "ipython",
    "version": 3
   },
   "file_extension": ".py",
   "mimetype": "text/x-python",
   "name": "python",
   "nbconvert_exporter": "python",
   "pygments_lexer": "ipython3",
   "version": "3.9.12"
  }
 },
 "nbformat": 4,
 "nbformat_minor": 5
}
