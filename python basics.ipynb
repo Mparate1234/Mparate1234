{
 "cells": [
  {
   "cell_type": "code",
   "execution_count": 5,
   "id": "0be41bfa",
   "metadata": {},
   "outputs": [
    {
     "name": "stdout",
     "output_type": "stream",
     "text": [
      "hi!\n",
      "my\n",
      "name\n",
      "is\n",
      "manish\n"
     ]
    }
   ],
   "source": [
    "my_name='hi! my name is manish'\n",
    "for i in my_name.split(' '):\n",
    "    print(i)"
   ]
  },
  {
   "cell_type": "code",
   "execution_count": 7,
   "id": "3b4ffc39",
   "metadata": {},
   "outputs": [
    {
     "name": "stdout",
     "output_type": "stream",
     "text": [
      "*\n",
      "**\n",
      "***\n",
      "****\n",
      "*****\n"
     ]
    }
   ],
   "source": [
    "for i in range(5):\n",
    "    print('*'*(i+1))"
   ]
  },
  {
   "cell_type": "code",
   "execution_count": 8,
   "id": "50f6a719",
   "metadata": {},
   "outputs": [
    {
     "name": "stdout",
     "output_type": "stream",
     "text": [
      "      *\n",
      "     ***\n",
      "    *****\n",
      "   *******\n",
      "  *********\n"
     ]
    }
   ],
   "source": [
    "for i in range(5):\n",
    "    print(' '*(5-i+1)+'*'*(2*i+1))"
   ]
  },
  {
   "cell_type": "code",
   "execution_count": 10,
   "id": "84fefa19",
   "metadata": {},
   "outputs": [
    {
     "name": "stdout",
     "output_type": "stream",
     "text": [
      "1 \n",
      "2 3 \n",
      "3 4 5 \n",
      "4 5 6 7 \n",
      "5 6 7 8 9 \n"
     ]
    }
   ],
   "source": [
    "N=list(range(1,11))\n",
    "for i in range(5):\n",
    "    for j in range(i+1):\n",
    "        print(N[i+j],end=' ')\n",
    "    print()"
   ]
  },
  {
   "cell_type": "code",
   "execution_count": 21,
   "id": "907fb7ac",
   "metadata": {},
   "outputs": [
    {
     "name": "stdout",
     "output_type": "stream",
     "text": [
      "enter no=16\n",
      "square 256\n",
      "cube 4096\n",
      "square root 4.0\n"
     ]
    }
   ],
   "source": [
    "import math\n",
    "def sqrfunc(n):\n",
    "    return (lambda n:n**2)\n",
    "def cubefunc(n):\n",
    "    return lambda n:n**3\n",
    "def sqrtfunc(n):\n",
    "    return lambda n:math.sqrt(n)\n",
    "n=int(input(\"enter no=\"))\n",
    "sqr=sqrfunc(n)\n",
    "cube=cubefunc(n)\n",
    "sqroot=sqrtfunc(n)\n",
    "print(\"square\",sqr(n))\n",
    "print(\"cube\",cube(n))\n",
    "print(\"square root\",sqroot(n))\n"
   ]
  },
  {
   "cell_type": "code",
   "execution_count": null,
   "id": "ccb52161",
   "metadata": {},
   "outputs": [],
   "source": []
  },
  {
   "cell_type": "code",
   "execution_count": 3,
   "id": "6154f12f",
   "metadata": {},
   "outputs": [
    {
     "name": "stdout",
     "output_type": "stream",
     "text": [
      "65923\n",
      "25\n"
     ]
    }
   ],
   "source": [
    "N=int(input())                # sum of all digits from no\n",
    "N_sum=0\n",
    "while N:\n",
    "    N_sum=N_sum+(N%10)\n",
    "    N=N//10\n",
    "print(N_sum)"
   ]
  },
  {
   "cell_type": "code",
   "execution_count": 4,
   "id": "49cf0b0a",
   "metadata": {},
   "outputs": [
    {
     "name": "stdout",
     "output_type": "stream",
     "text": [
      "5\n",
      "120\n"
     ]
    }
   ],
   "source": [
    "N=int(input())\n",
    "fact=1\n",
    "while N:\n",
    "    fact=fact*N\n",
    "    N=N-1                            # factorial\n",
    "print(fact)"
   ]
  },
  {
   "cell_type": "code",
   "execution_count": 16,
   "id": "fcb59db0",
   "metadata": {},
   "outputs": [
    {
     "name": "stdout",
     "output_type": "stream",
     "text": [
      "enter number-25\n",
      "factors are 25 are 1,5,25\n"
     ]
    }
   ],
   "source": [
    "num=int(input('enter number-'))\n",
    "factors=[]\n",
    "for i in range(1,num+1):\n",
    "    if num%i==0:\n",
    "        factors.append(i)\n",
    "print(\"factors are\",num,'are',\",\".join(map(str,factors)))"
   ]
  },
  {
   "cell_type": "code",
   "execution_count": 19,
   "id": "0002fe11",
   "metadata": {},
   "outputs": [
    {
     "name": "stdout",
     "output_type": "stream",
     "text": [
      "how many no's do you want to compare=3\n",
      "enter first no=158\n",
      "enter second no=25\n",
      "enter third no=53\n",
      "max noumber = 158\n"
     ]
    }
   ],
   "source": [
    "def max_of_two(x,y):\n",
    "    if x>y:        \n",
    "        return x\n",
    "    return y\n",
    "def max_of_three(x,y,z):\n",
    "    return max_of_two(x,max_of_two(y,z))\n",
    "n=int(input('how many no\\'s do you want to compare='))\n",
    "if n==2:\n",
    "    x=int(input('enter first no='))\n",
    "    y=int(input('enter second no=')) \n",
    "    print(\"max noumber=\",max_of_two(x,y))\n",
    "elif n==3:\n",
    "    x=int(input('enter first no='))\n",
    "    y=int(input('enter second no='))   \n",
    "    z=int(input('enter third no='))   \n",
    "    print(\"max noumber =\",max_of_three(x,y,z))\n",
    "else:\n",
    "    print(\"enter smaller value of n\")"
   ]
  },
  {
   "cell_type": "code",
   "execution_count": 10,
   "id": "913b9f8d",
   "metadata": {},
   "outputs": [
    {
     "name": "stdout",
     "output_type": "stream",
     "text": [
      "'Press D to Deposite' OR 'Press W to Withdrawl'd\n",
      "Enter amount to be Deposit:548454\n",
      "Deposie Balance: 548454\n"
     ]
    }
   ],
   "source": [
    "def make_account():\n",
    "    return{'balance':0}\n",
    "def deposite(account,amount):\n",
    "    account['balance']+=amount\n",
    "    print(\"Deposie Balance:\",account['balance'])\n",
    "    return account['balance']\n",
    "def withdraw(account,amount):\n",
    "    account['balance']-=amount\n",
    "    print('Withdrawal Balance:',account['balance'])\n",
    "    return account['balance']\n",
    "a=make_account()\n",
    "press=str(input(\"'Press D to Deposite' OR 'Press W to Withdrawl'\"))\n",
    "if (press=='W' or press=='w'):\n",
    "    amt(int(input(\"Enter amount to be Withdrawl:\")))\n",
    "    withdraw(a,amt)\n",
    "elif (press=='D' or press=='d'):\n",
    "    amt=int(input(\"Enter amount to be Deposit:\"))\n",
    "    deposite(a,amt)\n",
    "else:\n",
    "    print('press currect key')"
   ]
  },
  {
   "cell_type": "code",
   "execution_count": null,
   "id": "150ff7d6",
   "metadata": {},
   "outputs": [
    {
     "name": "stdout",
     "output_type": "stream",
     "text": [
      "This program will calculate \n",
      "  area of some geomeric shapes for you \n",
      "Enter square,rectangle,triangle,circle\n"
     ]
    }
   ],
   "source": [
    "import math\n",
    "\n",
    "def calc_square(a_side):\n",
    "    square_area = (a_side**2)\n",
    "    return square_area \n",
    "def calc_rectangle(w_side,l_side):\n",
    "    rectangale_area = w_side*l_side\n",
    "    return rectangale_area\n",
    "def calc_triangle(base,height):\n",
    "    triangle_area = (base*height)/2\n",
    "    return triangle_area\n",
    "def calc_circle(radius):\n",
    "    circle_area = math.pi*(radius**2)\n",
    "    return circle_area\n",
    "\n",
    "\n",
    "def area_to_calc(user_calc):\n",
    "    if user_calc=='square':\n",
    "        a_side=float(input(\"Enter side if the square : \"))\n",
    "        print('Area of square :',calc_square(a_side))\n",
    "    elif user_calc=='rectangle':\n",
    "        l_side=float(input('Enter lenght : '))\n",
    "        w_side=float(input(\"Enter width : \"))\n",
    "        print('Area of rectangle :',calc_rectangle(w_side,l_side))\n",
    "    elif user_calc=='triangle':\n",
    "        base=float(input('Enter base :'))\n",
    "        height=float(input('Enter height'))\n",
    "        print('Area of triangle',calc_triangle(base,height))\n",
    "    elif user_calc=='circle':\n",
    "        radius=float(input(\"Enter radius: \"))\n",
    "        print('Area of circle :',calc_circle(radius))\n",
    "    else:\n",
    "        area_to_calc(input('Error,Re-enter input :'))\n",
    "if __name__ =='__main__':\n",
    "    print('This program will calculate \\n  area of some geomeric shapes for you ')\n",
    "    print('Enter square,rectangle,triangle,circle')\n",
    "user_calc=(input('What area would you like to calculate : '))\n",
    "area_to_calc(user_calc)"
   ]
  },
  {
   "cell_type": "code",
   "execution_count": null,
   "id": "7a7094de",
   "metadata": {},
   "outputs": [],
   "source": []
  },
  {
   "cell_type": "code",
   "execution_count": null,
   "id": "4023f0f3",
   "metadata": {},
   "outputs": [],
   "source": []
  },
  {
   "cell_type": "code",
   "execution_count": null,
   "id": "8e743207",
   "metadata": {},
   "outputs": [],
   "source": [
    "N=input()\n",
    "my_list=[]\n",
    "for i in range(int(N)):\n",
    "     my_list.append(int(input()))\n",
    "my_list.sort()\n",
    "print(my_list)"
   ]
  },
  {
   "cell_type": "code",
   "execution_count": 4,
   "id": "f7dbb3de",
   "metadata": {},
   "outputs": [
    {
     "name": "stdout",
     "output_type": "stream",
     "text": [
      "Enter first number: 144\n",
      "Enter second number: 48\n",
      "The GCD of 144 and 48 is 48\n"
     ]
    }
   ],
   "source": [
    "x = int(input(\"Enter first number: \"))\n",
    "y = int(input(\"Enter second number: \"))\n",
    "if x > y:\n",
    "     smaller = y\n",
    "else:\n",
    "     smaller = x\n",
    "for i in range(1,smaller+1):\n",
    "    if((x % i == 0) and (y % i == 0)):\n",
    "         hcf = i\n",
    "print(\"The GCD of\", x,\"and\", y,\"is\", hcf) \n"
   ]
  },
  {
   "cell_type": "code",
   "execution_count": 1,
   "id": "87ca92fb",
   "metadata": {},
   "outputs": [
    {
     "name": "stdout",
     "output_type": "stream",
     "text": [
      "Enter your name : mkjiu\n",
      "MKJIU\n"
     ]
    }
   ],
   "source": [
    "class IOString():\n",
    "    def __init__(self):\n",
    "        self.str1 = ''\n",
    "    def get_String(self):\n",
    "        self.str1 = input(\"Enter your name : \")\n",
    "    def print_String(self):\n",
    "        print(self.str1.upper())\n",
    "str1 = IOString()\n",
    "str1.get_String()\n",
    "str1.print_String()"
   ]
  },
  {
   "cell_type": "code",
   "execution_count": null,
   "id": "85d537ec",
   "metadata": {},
   "outputs": [],
   "source": []
  },
  {
   "cell_type": "code",
   "execution_count": 2,
   "id": "04cc8104",
   "metadata": {},
   "outputs": [
    {
     "name": "stdout",
     "output_type": "stream",
     "text": [
      "The x value: 54\n",
      "The y value: 54\n",
      "The z value: 8\n",
      "Two Solutions. Discriminant value is: 1188.0\n"
     ]
    }
   ],
   "source": [
    "def discriminant():\n",
    "    x_value = float(input('The x value: '))\n",
    "    y_value = float(input('The y value: '))\n",
    "    z_value = float(input('The z value: '))\n",
    "    discriminant = (y_value**2) - (4*x_value*z_value)\n",
    "    if discriminant > 0:\n",
    "        print('Two Solutions. Discriminant value is:', discriminant)\n",
    "    elif discriminant == 0:\n",
    "         print('One Solution. Discriminant value is:', discriminant)\n",
    "    elif discriminant < 0:\n",
    "         print('No Real Solutions. Discriminant value is:', discriminant)\n",
    "discriminant()"
   ]
  },
  {
   "cell_type": "code",
   "execution_count": null,
   "id": "e4527687",
   "metadata": {},
   "outputs": [],
   "source": []
  }
 ],
 "metadata": {
  "kernelspec": {
   "display_name": "Python 3 (ipykernel)",
   "language": "python",
   "name": "python3"
  },
  "language_info": {
   "codemirror_mode": {
    "name": "ipython",
    "version": 3
   },
   "file_extension": ".py",
   "mimetype": "text/x-python",
   "name": "python",
   "nbconvert_exporter": "python",
   "pygments_lexer": "ipython3",
   "version": "3.9.12"
  }
 },
 "nbformat": 4,
 "nbformat_minor": 5
}
